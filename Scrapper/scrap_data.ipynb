{
 "cells": [
  {
   "cell_type": "markdown",
   "metadata": {},
   "source": [
    "# imports "
   ]
  },
  {
   "cell_type": "code",
   "execution_count": 3,
   "metadata": {},
   "outputs": [],
   "source": [
    "import pandas as pd \n",
    "import pytube \n",
    "import whisper \n",
    "import json \n",
    "import numpy as np \n",
    "from tqdm import tqdm\n",
    "from time import time \n",
    "import torch \n",
    "import os "
   ]
  },
  {
   "cell_type": "markdown",
   "metadata": {},
   "source": [
    "# Dataloading \n"
   ]
  },
  {
   "cell_type": "code",
   "execution_count": 4,
   "metadata": {},
   "outputs": [
    {
     "name": "stdout",
     "output_type": "stream",
     "text": [
      "Loaded playlists URLs ... \n"
     ]
    }
   ],
   "source": [
    "data = json.load(open('Data.json'))['playlists']\n",
    "print('Loaded playlists URLs ... ')"
   ]
  },
  {
   "cell_type": "markdown",
   "metadata": {},
   "source": [
    "# Load playlist Urls\n"
   ]
  },
  {
   "cell_type": "code",
   "execution_count": 5,
   "metadata": {},
   "outputs": [],
   "source": [
    "def get_video_urls_from_playlist(playlist_url):\n",
    "    \"\"\"Extracts video URLs from a YouTube playlist URL.\n",
    "\n",
    "    Args:\n",
    "        playlist_url (str): The URL of the YouTube playlist.\n",
    "\n",
    "    Returns:\n",
    "        list: A list of video URLs in the playlist.\n",
    "    \"\"\"\n",
    "\n",
    "    try:\n",
    "        # Create a Playlist object using pytube\n",
    "        playlist = pytube.Playlist(playlist_url)\n",
    "\n",
    "        # Extract and return video URLs\n",
    "        video_urls = playlist.video_urls\n",
    "        return video_urls\n",
    "\n",
    "    except Exception as e:\n",
    "        print(f\"An error occurred while getting video URLs: {e}\")\n",
    "        return []"
   ]
  },
  {
   "cell_type": "code",
   "execution_count": 6,
   "metadata": {},
   "outputs": [
    {
     "name": "stdout",
     "output_type": "stream",
     "text": [
      "Getting video URLs from playlist: https://www.youtube.com/playlist?list=PLYxtGyYUCbEHQVvJxcDFNAQswRDt4Rqgm\n",
      "Getting video URLs from playlist: https://www.youtube.com/playlist?list=PLYxtGyYUCbEGYMo1tsf_q9NqGPrrzoqB0\n",
      "Getting video URLs from playlist: https://www.youtube.com/playlist?list=PLYxtGyYUCbEHePxU2X16q-MfWSpZjgDUz\n",
      "Getting video URLs from playlist: https://www.youtube.com/playlist?list=PLYxtGyYUCbEHA10I_hGYOxZW0nJTwIc_9\n",
      "Getting video URLs from playlist: https://www.youtube.com/playlist?list=PLYxtGyYUCbEF-Tlt8TUO-_M5ijkIqzc0C\n",
      "Getting video URLs from playlist: https://www.youtube.com/playlist?list=PLYxtGyYUCbEEHstX_Ya9K1C_n5GYiKDCX\n",
      "Getting video URLs from playlist: https://www.youtube.com/playlist?list=PLYxtGyYUCbEEcbuWAXjOsqp8iB0Lf3K8_\n",
      "Getting video URLs from playlist: https://www.youtube.com/playlist?list=PLYxtGyYUCbEGFt9XAJ4gro3LGNrgpkxVC\n",
      "Getting video URLs from playlist: https://www.youtube.com/playlist?list=PLYxtGyYUCbEG3QKCGHFUNhragkTe588Uc\n",
      "Getting video URLs from playlist: https://www.youtube.com/playlist?list=PLYxtGyYUCbEFLejo3Hv1LLL1GX0fNpmcM\n"
     ]
    },
    {
     "data": {
      "text/html": [
       "<div>\n",
       "<style scoped>\n",
       "    .dataframe tbody tr th:only-of-type {\n",
       "        vertical-align: middle;\n",
       "    }\n",
       "\n",
       "    .dataframe tbody tr th {\n",
       "        vertical-align: top;\n",
       "    }\n",
       "\n",
       "    .dataframe thead th {\n",
       "        text-align: right;\n",
       "    }\n",
       "</style>\n",
       "<table border=\"1\" class=\"dataframe\">\n",
       "  <thead>\n",
       "    <tr style=\"text-align: right;\">\n",
       "      <th></th>\n",
       "      <th>playlist_tag</th>\n",
       "      <th>playlist_url</th>\n",
       "      <th>video_url</th>\n",
       "      <th>channel_id</th>\n",
       "      <th>channel_url</th>\n",
       "      <th>video_title</th>\n",
       "      <th>video_length</th>\n",
       "      <th>video_publish_date</th>\n",
       "      <th>video_rating</th>\n",
       "      <th>video_views</th>\n",
       "      <th>video_author</th>\n",
       "      <th>video_keywords</th>\n",
       "      <th>video_description</th>\n",
       "      <th>video_transcript</th>\n",
       "    </tr>\n",
       "  </thead>\n",
       "  <tbody>\n",
       "    <tr>\n",
       "      <th>0</th>\n",
       "      <td>Exploring your questions!</td>\n",
       "      <td>https://www.youtube.com/playlist?list=PLYxtGyY...</td>\n",
       "      <td>https://www.youtube.com/watch?v=24H6FcXTiWY</td>\n",
       "      <td>NaN</td>\n",
       "      <td>NaN</td>\n",
       "      <td>NaN</td>\n",
       "      <td>NaN</td>\n",
       "      <td>NaN</td>\n",
       "      <td>NaN</td>\n",
       "      <td>NaN</td>\n",
       "      <td>NaN</td>\n",
       "      <td>NaN</td>\n",
       "      <td>NaN</td>\n",
       "      <td>NaN</td>\n",
       "    </tr>\n",
       "    <tr>\n",
       "      <th>1</th>\n",
       "      <td>Exploring your questions!</td>\n",
       "      <td>https://www.youtube.com/playlist?list=PLYxtGyY...</td>\n",
       "      <td>https://www.youtube.com/watch?v=Th4PejGz1Ic</td>\n",
       "      <td>NaN</td>\n",
       "      <td>NaN</td>\n",
       "      <td>NaN</td>\n",
       "      <td>NaN</td>\n",
       "      <td>NaN</td>\n",
       "      <td>NaN</td>\n",
       "      <td>NaN</td>\n",
       "      <td>NaN</td>\n",
       "      <td>NaN</td>\n",
       "      <td>NaN</td>\n",
       "      <td>NaN</td>\n",
       "    </tr>\n",
       "    <tr>\n",
       "      <th>2</th>\n",
       "      <td>Exploring your questions!</td>\n",
       "      <td>https://www.youtube.com/playlist?list=PLYxtGyY...</td>\n",
       "      <td>https://www.youtube.com/watch?v=YSO_SBfjChA</td>\n",
       "      <td>NaN</td>\n",
       "      <td>NaN</td>\n",
       "      <td>NaN</td>\n",
       "      <td>NaN</td>\n",
       "      <td>NaN</td>\n",
       "      <td>NaN</td>\n",
       "      <td>NaN</td>\n",
       "      <td>NaN</td>\n",
       "      <td>NaN</td>\n",
       "      <td>NaN</td>\n",
       "      <td>NaN</td>\n",
       "    </tr>\n",
       "    <tr>\n",
       "      <th>3</th>\n",
       "      <td>Exploring your questions!</td>\n",
       "      <td>https://www.youtube.com/playlist?list=PLYxtGyY...</td>\n",
       "      <td>https://www.youtube.com/watch?v=eoVkQDDNa0g</td>\n",
       "      <td>NaN</td>\n",
       "      <td>NaN</td>\n",
       "      <td>NaN</td>\n",
       "      <td>NaN</td>\n",
       "      <td>NaN</td>\n",
       "      <td>NaN</td>\n",
       "      <td>NaN</td>\n",
       "      <td>NaN</td>\n",
       "      <td>NaN</td>\n",
       "      <td>NaN</td>\n",
       "      <td>NaN</td>\n",
       "    </tr>\n",
       "    <tr>\n",
       "      <th>4</th>\n",
       "      <td>Exploring your questions!</td>\n",
       "      <td>https://www.youtube.com/playlist?list=PLYxtGyY...</td>\n",
       "      <td>https://www.youtube.com/watch?v=mQAqh_MJWeI</td>\n",
       "      <td>NaN</td>\n",
       "      <td>NaN</td>\n",
       "      <td>NaN</td>\n",
       "      <td>NaN</td>\n",
       "      <td>NaN</td>\n",
       "      <td>NaN</td>\n",
       "      <td>NaN</td>\n",
       "      <td>NaN</td>\n",
       "      <td>NaN</td>\n",
       "      <td>NaN</td>\n",
       "      <td>NaN</td>\n",
       "    </tr>\n",
       "    <tr>\n",
       "      <th>...</th>\n",
       "      <td>...</td>\n",
       "      <td>...</td>\n",
       "      <td>...</td>\n",
       "      <td>...</td>\n",
       "      <td>...</td>\n",
       "      <td>...</td>\n",
       "      <td>...</td>\n",
       "      <td>...</td>\n",
       "      <td>...</td>\n",
       "      <td>...</td>\n",
       "      <td>...</td>\n",
       "      <td>...</td>\n",
       "      <td>...</td>\n",
       "      <td>...</td>\n",
       "    </tr>\n",
       "    <tr>\n",
       "      <th>161</th>\n",
       "      <td>Meditation</td>\n",
       "      <td>https://www.youtube.com/playlist?list=PLYxtGyY...</td>\n",
       "      <td>https://www.youtube.com/watch?v=7VaHh9EUcfE</td>\n",
       "      <td>NaN</td>\n",
       "      <td>NaN</td>\n",
       "      <td>NaN</td>\n",
       "      <td>NaN</td>\n",
       "      <td>NaN</td>\n",
       "      <td>NaN</td>\n",
       "      <td>NaN</td>\n",
       "      <td>NaN</td>\n",
       "      <td>NaN</td>\n",
       "      <td>NaN</td>\n",
       "      <td>NaN</td>\n",
       "    </tr>\n",
       "    <tr>\n",
       "      <th>162</th>\n",
       "      <td>Meditation</td>\n",
       "      <td>https://www.youtube.com/playlist?list=PLYxtGyY...</td>\n",
       "      <td>https://www.youtube.com/watch?v=XOoFuiLeaPg</td>\n",
       "      <td>NaN</td>\n",
       "      <td>NaN</td>\n",
       "      <td>NaN</td>\n",
       "      <td>NaN</td>\n",
       "      <td>NaN</td>\n",
       "      <td>NaN</td>\n",
       "      <td>NaN</td>\n",
       "      <td>NaN</td>\n",
       "      <td>NaN</td>\n",
       "      <td>NaN</td>\n",
       "      <td>NaN</td>\n",
       "    </tr>\n",
       "    <tr>\n",
       "      <th>163</th>\n",
       "      <td>Meditation</td>\n",
       "      <td>https://www.youtube.com/playlist?list=PLYxtGyY...</td>\n",
       "      <td>https://www.youtube.com/watch?v=tpfBu-PnWJ4</td>\n",
       "      <td>NaN</td>\n",
       "      <td>NaN</td>\n",
       "      <td>NaN</td>\n",
       "      <td>NaN</td>\n",
       "      <td>NaN</td>\n",
       "      <td>NaN</td>\n",
       "      <td>NaN</td>\n",
       "      <td>NaN</td>\n",
       "      <td>NaN</td>\n",
       "      <td>NaN</td>\n",
       "      <td>NaN</td>\n",
       "    </tr>\n",
       "    <tr>\n",
       "      <th>164</th>\n",
       "      <td>Meditation</td>\n",
       "      <td>https://www.youtube.com/playlist?list=PLYxtGyY...</td>\n",
       "      <td>https://www.youtube.com/watch?v=FQ1d5rC062c</td>\n",
       "      <td>NaN</td>\n",
       "      <td>NaN</td>\n",
       "      <td>NaN</td>\n",
       "      <td>NaN</td>\n",
       "      <td>NaN</td>\n",
       "      <td>NaN</td>\n",
       "      <td>NaN</td>\n",
       "      <td>NaN</td>\n",
       "      <td>NaN</td>\n",
       "      <td>NaN</td>\n",
       "      <td>NaN</td>\n",
       "    </tr>\n",
       "    <tr>\n",
       "      <th>165</th>\n",
       "      <td>Meditation</td>\n",
       "      <td>https://www.youtube.com/playlist?list=PLYxtGyY...</td>\n",
       "      <td>https://www.youtube.com/watch?v=DvuVhCIQgfQ</td>\n",
       "      <td>NaN</td>\n",
       "      <td>NaN</td>\n",
       "      <td>NaN</td>\n",
       "      <td>NaN</td>\n",
       "      <td>NaN</td>\n",
       "      <td>NaN</td>\n",
       "      <td>NaN</td>\n",
       "      <td>NaN</td>\n",
       "      <td>NaN</td>\n",
       "      <td>NaN</td>\n",
       "      <td>NaN</td>\n",
       "    </tr>\n",
       "  </tbody>\n",
       "</table>\n",
       "<p>166 rows × 14 columns</p>\n",
       "</div>"
      ],
      "text/plain": [
       "                  playlist_tag  \\\n",
       "0    Exploring your questions!   \n",
       "1    Exploring your questions!   \n",
       "2    Exploring your questions!   \n",
       "3    Exploring your questions!   \n",
       "4    Exploring your questions!   \n",
       "..                         ...   \n",
       "161                 Meditation   \n",
       "162                 Meditation   \n",
       "163                 Meditation   \n",
       "164                 Meditation   \n",
       "165                 Meditation   \n",
       "\n",
       "                                          playlist_url  \\\n",
       "0    https://www.youtube.com/playlist?list=PLYxtGyY...   \n",
       "1    https://www.youtube.com/playlist?list=PLYxtGyY...   \n",
       "2    https://www.youtube.com/playlist?list=PLYxtGyY...   \n",
       "3    https://www.youtube.com/playlist?list=PLYxtGyY...   \n",
       "4    https://www.youtube.com/playlist?list=PLYxtGyY...   \n",
       "..                                                 ...   \n",
       "161  https://www.youtube.com/playlist?list=PLYxtGyY...   \n",
       "162  https://www.youtube.com/playlist?list=PLYxtGyY...   \n",
       "163  https://www.youtube.com/playlist?list=PLYxtGyY...   \n",
       "164  https://www.youtube.com/playlist?list=PLYxtGyY...   \n",
       "165  https://www.youtube.com/playlist?list=PLYxtGyY...   \n",
       "\n",
       "                                       video_url  channel_id  channel_url  \\\n",
       "0    https://www.youtube.com/watch?v=24H6FcXTiWY         NaN          NaN   \n",
       "1    https://www.youtube.com/watch?v=Th4PejGz1Ic         NaN          NaN   \n",
       "2    https://www.youtube.com/watch?v=YSO_SBfjChA         NaN          NaN   \n",
       "3    https://www.youtube.com/watch?v=eoVkQDDNa0g         NaN          NaN   \n",
       "4    https://www.youtube.com/watch?v=mQAqh_MJWeI         NaN          NaN   \n",
       "..                                           ...         ...          ...   \n",
       "161  https://www.youtube.com/watch?v=7VaHh9EUcfE         NaN          NaN   \n",
       "162  https://www.youtube.com/watch?v=XOoFuiLeaPg         NaN          NaN   \n",
       "163  https://www.youtube.com/watch?v=tpfBu-PnWJ4         NaN          NaN   \n",
       "164  https://www.youtube.com/watch?v=FQ1d5rC062c         NaN          NaN   \n",
       "165  https://www.youtube.com/watch?v=DvuVhCIQgfQ         NaN          NaN   \n",
       "\n",
       "     video_title  video_length  video_publish_date  video_rating  video_views  \\\n",
       "0            NaN           NaN                 NaN           NaN          NaN   \n",
       "1            NaN           NaN                 NaN           NaN          NaN   \n",
       "2            NaN           NaN                 NaN           NaN          NaN   \n",
       "3            NaN           NaN                 NaN           NaN          NaN   \n",
       "4            NaN           NaN                 NaN           NaN          NaN   \n",
       "..           ...           ...                 ...           ...          ...   \n",
       "161          NaN           NaN                 NaN           NaN          NaN   \n",
       "162          NaN           NaN                 NaN           NaN          NaN   \n",
       "163          NaN           NaN                 NaN           NaN          NaN   \n",
       "164          NaN           NaN                 NaN           NaN          NaN   \n",
       "165          NaN           NaN                 NaN           NaN          NaN   \n",
       "\n",
       "     video_author  video_keywords  video_description  video_transcript  \n",
       "0             NaN             NaN                NaN               NaN  \n",
       "1             NaN             NaN                NaN               NaN  \n",
       "2             NaN             NaN                NaN               NaN  \n",
       "3             NaN             NaN                NaN               NaN  \n",
       "4             NaN             NaN                NaN               NaN  \n",
       "..            ...             ...                ...               ...  \n",
       "161           NaN             NaN                NaN               NaN  \n",
       "162           NaN             NaN                NaN               NaN  \n",
       "163           NaN             NaN                NaN               NaN  \n",
       "164           NaN             NaN                NaN               NaN  \n",
       "165           NaN             NaN                NaN               NaN  \n",
       "\n",
       "[166 rows x 14 columns]"
      ]
     },
     "execution_count": 6,
     "metadata": {},
     "output_type": "execute_result"
    }
   ],
   "source": [
    "df = pd.DataFrame(columns=[\"playlist_tag\", \"playlist_url\",\"video_url\"])\n",
    "\n",
    "for playlist in data:\n",
    "    \n",
    "    playlist_tag = list(playlist.keys())[0]\n",
    "    playlist_url = list(playlist.values())[0]\n",
    "\n",
    "    print(f\"Getting video URLs from playlist: {playlist_url}\")\n",
    "\n",
    "    # Get video URLs from the playlist\n",
    "    video_urls = get_video_urls_from_playlist(playlist_url)\n",
    "    for video_url in video_urls:\n",
    "        row = pd.DataFrame([{\n",
    "            \"playlist_tag\": playlist_tag, \n",
    "            \"playlist_url\": playlist_url, \n",
    "            \"channel_id\" : np.nan,\n",
    "            \"channel_url\": np.nan,\n",
    "            \"video_url\": video_url, \n",
    "            \"video_title\": np.nan, \n",
    "            \"video_length\": np.nan,\n",
    "            \"video_publish_date\": np.nan,\n",
    "            \"video_rating\": np.nan,\n",
    "            \"video_views\": np.nan,\n",
    "            \"video_author\": np.nan , \n",
    "            \"video_keywords\": np.nan,\n",
    "            \"video_description\": np.nan, \n",
    "            \"video_transcript\": np.nan\n",
    "        }])\n",
    "        df = pd.concat([df,row], ignore_index=True)\n",
    "\n",
    "df "
   ]
  },
  {
   "cell_type": "code",
   "execution_count": 8,
   "metadata": {},
   "outputs": [
    {
     "name": "stderr",
     "output_type": "stream",
     "text": [
      "100%|██████████| 166/166 [02:06<00:00,  1.31it/s]\n"
     ]
    }
   ],
   "source": [
    "t = time()\n",
    "for index in tqdm(range(len(df))):\n",
    "    video_url = df.iloc[index]['video_url']\n",
    "    video = pytube.YouTube(video_url)\n",
    "    df.loc[index,'channel_id'] = video.channel_id\n",
    "    df.loc[index,'channel_url'] = video.channel_url\n",
    "    df.loc[index,'video_title'] = video.title\n",
    "    df.loc[index,'video_length'] = video.length\n",
    "    df.loc[index,'video_publish_date'] = video.publish_date\n",
    "    df.loc[index,'video_rating'] = video.rating\n",
    "    df.loc[index,'video_views'] = video.views\n",
    "    df.loc[index,'video_author'] = video.author\n",
    "    df.loc[index,'video_keywords'] = ';'.join(video.keywords)\n",
    "    df.loc[index,'video_description'] = video.description\n",
    "\n",
    "print(f\"Time taken to get video details: {time()-t} seconds\")"
   ]
  },
  {
   "cell_type": "code",
   "execution_count": 10,
   "metadata": {},
   "outputs": [],
   "source": [
    "df.to_csv('DrK_videos.csv', index=False)"
   ]
  },
  {
   "cell_type": "markdown",
   "metadata": {},
   "source": [
    "# Transcribing the dataset videos "
   ]
  },
  {
   "cell_type": "code",
   "execution_count": 2,
   "metadata": {},
   "outputs": [
    {
     "name": "stderr",
     "output_type": "stream",
     "text": [
      "/home/amine/.conda/envs/YT_datacollection/lib/python3.10/site-packages/torch/cuda/__init__.py:628: UserWarning: Can't initialize NVML\n",
      "  warnings.warn(\"Can't initialize NVML\")\n"
     ]
    }
   ],
   "source": []
  },
  {
   "cell_type": "code",
   "execution_count": 28,
   "metadata": {},
   "outputs": [],
   "source": [
    "# TODO : Modify the code to transcribe the video \n",
    "# pass the model in the parameters, and the video_url, and the output folder path\n",
    "# save the transcript in a file with the same name as the video_title\n",
    "# add the transcript to the dataframe\n",
    "\n",
    "\n",
    "def transcribe_youtube(youtube_url: str,  model: torch.nn.Module ) -> str | None:\n",
    "    \"\"\"\n",
    "    A function that transcribes a youtube video using OpenAI Whisper on premise. \n",
    "\n",
    "    Args:\n",
    "        youtube_url (str): The URL of the YouTube video to transcribe.\n",
    "        model (torch.nn.Module): The Whisper model to use.\n",
    "\n",
    "    Returns:\n",
    "        str: The transcribed text, or None if an error occurs.\n",
    "    \"\"\"\n",
    "    \n",
    "    # Download the audio stream\n",
    "    try:\n",
    "        print(f\"Downloading audio stream for \\n {youtube_url}...\")\n",
    "        t1 = time()\n",
    "        # Create a PyTube object to access the video\n",
    "        yt = pytube.YouTube(youtube_url)\n",
    "        # Extract the audio stream (only audio)\n",
    "        audio_stream = yt.streams.filter(only_audio=True).first()  \n",
    "        # Download the audio stream and save it to a temporary file\n",
    "        audio_filename = \"audio.mp3\"  # Temporary audio file        \n",
    "        audio_stream.download(filename=audio_filename)\n",
    "        t2 = time()\n",
    "        print(f\"Audio stream downloaded successfully in {t2-t1} secs.\")\n",
    "\n",
    "    except Exception as e: \n",
    "        print(f\"An error occurred while downloading the audio: {e}\")\n",
    "        return ''\n",
    "\n",
    "    # Transcribe the audio\n",
    "    try:\n",
    "        print(f\"Transcribing the audio...\")\n",
    "        t1 = time()\n",
    "        # Transcribe the audio file\n",
    "        result = model.transcribe(audio_filename)\n",
    "        t2 = time()\n",
    "        print(f\"Transcription completed successfully in {t2 -t1} secs.\")\n",
    "        # Extract the transcribed text\n",
    "        transcript = result[\"text\"]\n",
    "    except Exception as e:\n",
    "        print(f\"An error occurred while transcribing the audio: {e}\")\n",
    "        return ''\n",
    "\n",
    "    # Clean up the temporary audio file\n",
    "    try:\n",
    "        # Clean up the temporary audio file\n",
    "        os.remove(audio_filename)\n",
    "    except Exception as e:\n",
    "        print(f\"An error occurred while cleaning up audio file: {e}\")\n",
    "        return transcript\n",
    "    return transcript\n",
    "\n",
    "\n"
   ]
  },
  {
   "cell_type": "code",
   "execution_count": 15,
   "metadata": {},
   "outputs": [],
   "source": [
    "model_name = 'large'\n",
    "model = whisper.load_model(model_name)"
   ]
  },
  {
   "cell_type": "code",
   "execution_count": 30,
   "metadata": {},
   "outputs": [
    {
     "name": "stderr",
     "output_type": "stream",
     "text": [
      "  0%|          | 0/166 [00:00<?, ?it/s]"
     ]
    },
    {
     "name": "stdout",
     "output_type": "stream",
     "text": [
      "Downloading audio stream for \n",
      " https://www.youtube.com/watch?v=24H6FcXTiWY...\n",
      "Audio stream downloaded successfully in 1.3534531593322754 secs.\n",
      "Transcribing the audio...\n"
     ]
    },
    {
     "name": "stderr",
     "output_type": "stream",
     "text": [
      "  1%|          | 1/166 [07:31<20:42:12, 451.71s/it]"
     ]
    },
    {
     "name": "stdout",
     "output_type": "stream",
     "text": [
      "Transcription completed successfully in 450.348925113678 secs.\n",
      "Downloading audio stream for \n",
      " https://www.youtube.com/watch?v=Th4PejGz1Ic...\n",
      "Audio stream downloaded successfully in 393.76358699798584 secs.\n",
      "Transcribing the audio...\n"
     ]
    },
    {
     "name": "stderr",
     "output_type": "stream",
     "text": [
      "  1%|          | 2/166 [25:14<36:57:19, 811.22s/it]"
     ]
    },
    {
     "name": "stdout",
     "output_type": "stream",
     "text": [
      "Transcription completed successfully in 669.0946002006531 secs.\n",
      "Downloading audio stream for \n",
      " https://www.youtube.com/watch?v=YSO_SBfjChA...\n",
      "Audio stream downloaded successfully in 264.481938123703 secs.\n",
      "Transcribing the audio...\n"
     ]
    },
    {
     "name": "stderr",
     "output_type": "stream",
     "text": [
      "  2%|▏         | 3/166 [37:33<35:14:22, 778.30s/it]"
     ]
    },
    {
     "name": "stdout",
     "output_type": "stream",
     "text": [
      "Transcription completed successfully in 474.6345407962799 secs.\n",
      "Downloading audio stream for \n",
      " https://www.youtube.com/watch?v=eoVkQDDNa0g...\n",
      "Audio stream downloaded successfully in 262.53610348701477 secs.\n",
      "Transcribing the audio...\n"
     ]
    },
    {
     "name": "stderr",
     "output_type": "stream",
     "text": [
      "  2%|▏         | 4/166 [44:54<29:01:43, 645.09s/it]"
     ]
    },
    {
     "name": "stdout",
     "output_type": "stream",
     "text": [
      "Transcription completed successfully in 178.3211042881012 secs.\n",
      "Downloading audio stream for \n",
      " https://www.youtube.com/watch?v=mQAqh_MJWeI...\n",
      "Audio stream downloaded successfully in 264.3500945568085 secs.\n",
      "Transcribing the audio...\n"
     ]
    },
    {
     "name": "stderr",
     "output_type": "stream",
     "text": [
      "  3%|▎         | 5/166 [53:49<27:04:15, 605.32s/it]"
     ]
    },
    {
     "name": "stdout",
     "output_type": "stream",
     "text": [
      "Transcription completed successfully in 270.43872451782227 secs.\n",
      "Downloading audio stream for \n",
      " https://www.youtube.com/watch?v=7xXARKA3O_Q...\n",
      "Audio stream downloaded successfully in 264.03358817100525 secs.\n",
      "Transcribing the audio...\n"
     ]
    },
    {
     "name": "stderr",
     "output_type": "stream",
     "text": [
      "  4%|▎         | 6/166 [1:03:54<26:53:40, 605.13s/it]"
     ]
    },
    {
     "name": "stdout",
     "output_type": "stream",
     "text": [
      "Transcription completed successfully in 340.7218017578125 secs.\n",
      "Downloading audio stream for \n",
      " https://www.youtube.com/watch?v=SjB11PaK5ak...\n",
      "Audio stream downloaded successfully in 263.2220482826233 secs.\n",
      "Transcribing the audio...\n"
     ]
    },
    {
     "name": "stderr",
     "output_type": "stream",
     "text": [
      "  4%|▍         | 7/166 [1:16:53<29:14:46, 662.18s/it]"
     ]
    },
    {
     "name": "stdout",
     "output_type": "stream",
     "text": [
      "Transcription completed successfully in 516.4062201976776 secs.\n",
      "Downloading audio stream for \n",
      " https://www.youtube.com/watch?v=oTrCLOyoRq8...\n",
      "Audio stream downloaded successfully in 263.8324191570282 secs.\n",
      "Transcribing the audio...\n"
     ]
    },
    {
     "name": "stderr",
     "output_type": "stream",
     "text": [
      "  5%|▍         | 8/166 [1:23:35<25:25:28, 579.29s/it]"
     ]
    },
    {
     "name": "stdout",
     "output_type": "stream",
     "text": [
      "Transcription completed successfully in 137.96318817138672 secs.\n",
      "Downloading audio stream for \n",
      " https://www.youtube.com/watch?v=qyramLcTM30...\n",
      "Audio stream downloaded successfully in 263.95096921920776 secs.\n",
      "Transcribing the audio...\n"
     ]
    },
    {
     "name": "stderr",
     "output_type": "stream",
     "text": [
      "  5%|▌         | 9/166 [1:30:40<23:09:21, 530.96s/it]"
     ]
    },
    {
     "name": "stdout",
     "output_type": "stream",
     "text": [
      "Transcription completed successfully in 160.73455381393433 secs.\n",
      "Downloading audio stream for \n",
      " https://www.youtube.com/watch?v=8TL-K-dc4n4...\n",
      "Audio stream downloaded successfully in 393.6751809120178 secs.\n",
      "Transcribing the audio...\n"
     ]
    },
    {
     "name": "stderr",
     "output_type": "stream",
     "text": [
      "  6%|▌         | 10/166 [1:51:29<32:36:38, 752.55s/it]"
     ]
    },
    {
     "name": "stdout",
     "output_type": "stream",
     "text": [
      "Transcription completed successfully in 855.0456483364105 secs.\n",
      "Downloading audio stream for \n",
      " https://www.youtube.com/watch?v=FnveZCPyJRQ...\n",
      "Audio stream downloaded successfully in 263.3833315372467 secs.\n",
      "Transcribing the audio...\n"
     ]
    },
    {
     "name": "stderr",
     "output_type": "stream",
     "text": [
      "  7%|▋         | 11/166 [1:59:44<29:01:11, 674.01s/it]"
     ]
    },
    {
     "name": "stdout",
     "output_type": "stream",
     "text": [
      "Transcription completed successfully in 232.52038526535034 secs.\n",
      "Downloading audio stream for \n",
      " https://www.youtube.com/watch?v=xnuDmmDu7is...\n",
      "Audio stream downloaded successfully in 262.86553859710693 secs.\n",
      "Transcribing the audio...\n"
     ]
    },
    {
     "name": "stderr",
     "output_type": "stream",
     "text": [
      "  7%|▋         | 12/166 [2:07:25<26:03:14, 609.05s/it]"
     ]
    },
    {
     "name": "stdout",
     "output_type": "stream",
     "text": [
      "Transcription completed successfully in 197.5980086326599 secs.\n",
      "Downloading audio stream for \n",
      " https://www.youtube.com/watch?v=ypFlWqtR3TY...\n",
      "Audio stream downloaded successfully in 263.25458335876465 secs.\n",
      "Transcribing the audio...\n"
     ]
    },
    {
     "name": "stderr",
     "output_type": "stream",
     "text": [
      "  8%|▊         | 13/166 [2:17:29<25:48:53, 607.41s/it]"
     ]
    },
    {
     "name": "stdout",
     "output_type": "stream",
     "text": [
      "Transcription completed successfully in 340.3435869216919 secs.\n",
      "Downloading audio stream for \n",
      " https://www.youtube.com/watch?v=4nd1CDZP21s...\n",
      "Audio stream downloaded successfully in 264.02380561828613 secs.\n",
      "Transcribing the audio...\n"
     ]
    },
    {
     "name": "stderr",
     "output_type": "stream",
     "text": [
      "  8%|▊         | 14/166 [2:28:45<26:31:36, 628.26s/it]"
     ]
    },
    {
     "name": "stdout",
     "output_type": "stream",
     "text": [
      "Transcription completed successfully in 412.42466855049133 secs.\n",
      "Downloading audio stream for \n",
      " https://www.youtube.com/watch?v=JE-dgPRkNiE...\n",
      "Audio stream downloaded successfully in 265.4364445209503 secs.\n",
      "Transcribing the audio...\n"
     ]
    },
    {
     "name": "stderr",
     "output_type": "stream",
     "text": [
      "  9%|▉         | 15/166 [2:39:09<26:17:46, 626.93s/it]"
     ]
    },
    {
     "name": "stdout",
     "output_type": "stream",
     "text": [
      "Transcription completed successfully in 358.4027462005615 secs.\n",
      "Downloading audio stream for \n",
      " https://www.youtube.com/watch?v=W5SKxUwvJN0...\n",
      "Audio stream downloaded successfully in 264.10402059555054 secs.\n",
      "Transcribing the audio...\n"
     ]
    },
    {
     "name": "stderr",
     "output_type": "stream",
     "text": [
      " 10%|▉         | 16/166 [2:51:23<27:28:14, 659.30s/it]"
     ]
    },
    {
     "name": "stdout",
     "output_type": "stream",
     "text": [
      "Transcription completed successfully in 470.34279131889343 secs.\n",
      "Downloading audio stream for \n",
      " https://www.youtube.com/watch?v=6lzS_om3nU4...\n",
      "Audio stream downloaded successfully in 393.3513607978821 secs.\n",
      "Transcribing the audio...\n"
     ]
    },
    {
     "name": "stderr",
     "output_type": "stream",
     "text": [
      " 10%|█         | 17/166 [3:08:00<31:29:19, 760.80s/it]"
     ]
    },
    {
     "name": "stdout",
     "output_type": "stream",
     "text": [
      "Transcription completed successfully in 603.494961977005 secs.\n",
      "Downloading audio stream for \n",
      " https://www.youtube.com/watch?v=Cv3bj1M96fQ...\n",
      "Audio stream downloaded successfully in 393.936954498291 secs.\n",
      "Transcribing the audio...\n"
     ]
    },
    {
     "name": "stderr",
     "output_type": "stream",
     "text": [
      " 11%|█         | 18/166 [3:25:38<34:56:39, 850.00s/it]"
     ]
    },
    {
     "name": "stdout",
     "output_type": "stream",
     "text": [
      "Transcription completed successfully in 663.6751441955566 secs.\n",
      "Downloading audio stream for \n",
      " https://www.youtube.com/watch?v=sHQ-rEcPQSs...\n",
      "Audio stream downloaded successfully in 263.54957151412964 secs.\n",
      "Transcribing the audio...\n"
     ]
    },
    {
     "name": "stderr",
     "output_type": "stream",
     "text": [
      " 11%|█▏        | 19/166 [3:37:55<33:19:14, 816.02s/it]"
     ]
    },
    {
     "name": "stdout",
     "output_type": "stream",
     "text": [
      "Transcription completed successfully in 473.29527521133423 secs.\n",
      "Downloading audio stream for \n",
      " https://www.youtube.com/watch?v=zFfED-M0FcU...\n",
      "Audio stream downloaded successfully in 263.2089431285858 secs.\n",
      "Transcribing the audio...\n"
     ]
    },
    {
     "name": "stderr",
     "output_type": "stream",
     "text": [
      " 12%|█▏        | 20/166 [3:49:34<31:40:11, 780.90s/it]"
     ]
    },
    {
     "name": "stdout",
     "output_type": "stream",
     "text": [
      "Transcription completed successfully in 435.83828473091125 secs.\n",
      "Downloading audio stream for \n",
      " https://www.youtube.com/watch?v=BHf0L8dZJbE...\n",
      "Audio stream downloaded successfully in 264.52624440193176 secs.\n",
      "Transcribing the audio...\n"
     ]
    },
    {
     "name": "stderr",
     "output_type": "stream",
     "text": [
      " 13%|█▎        | 21/166 [3:57:40<27:53:42, 692.57s/it]"
     ]
    },
    {
     "name": "stdout",
     "output_type": "stream",
     "text": [
      "Transcription completed successfully in 222.07741332054138 secs.\n",
      "Downloading audio stream for \n",
      " https://www.youtube.com/watch?v=aWz5n_cOqrs...\n",
      "Audio stream downloaded successfully in 262.91342973709106 secs.\n",
      "Transcribing the audio...\n"
     ]
    },
    {
     "name": "stderr",
     "output_type": "stream",
     "text": [
      " 13%|█▎        | 22/166 [4:08:13<26:58:46, 674.49s/it]"
     ]
    },
    {
     "name": "stdout",
     "output_type": "stream",
     "text": [
      "Transcription completed successfully in 369.3945333957672 secs.\n",
      "Downloading audio stream for \n",
      " https://www.youtube.com/watch?v=yggpR7LphVQ...\n",
      "Audio stream downloaded successfully in 263.46040177345276 secs.\n",
      "Transcribing the audio...\n"
     ]
    },
    {
     "name": "stderr",
     "output_type": "stream",
     "text": [
      " 14%|█▍        | 23/166 [4:19:30<26:49:42, 675.40s/it]"
     ]
    },
    {
     "name": "stdout",
     "output_type": "stream",
     "text": [
      "Transcription completed successfully in 414.0527813434601 secs.\n",
      "Downloading audio stream for \n",
      " https://www.youtube.com/watch?v=9hjtQwj4qqI...\n",
      "Audio stream downloaded successfully in 263.7218265533447 secs.\n",
      "Transcribing the audio...\n"
     ]
    },
    {
     "name": "stderr",
     "output_type": "stream",
     "text": [
      " 14%|█▍        | 24/166 [4:34:14<29:06:36, 738.00s/it]"
     ]
    },
    {
     "name": "stdout",
     "output_type": "stream",
     "text": [
      "Transcription completed successfully in 620.2889823913574 secs.\n",
      "Downloading audio stream for \n",
      " https://www.youtube.com/watch?v=w5HhFDIoNEs...\n",
      "Audio stream downloaded successfully in 264.9266917705536 secs.\n",
      "Transcribing the audio...\n"
     ]
    },
    {
     "name": "stderr",
     "output_type": "stream",
     "text": [
      " 15%|█▌        | 25/166 [4:45:48<28:23:14, 724.78s/it]"
     ]
    },
    {
     "name": "stdout",
     "output_type": "stream",
     "text": [
      "Transcription completed successfully in 429.00263953208923 secs.\n",
      "Downloading audio stream for \n",
      " https://www.youtube.com/watch?v=Ddfgq3K4_vY...\n",
      "Audio stream downloaded successfully in 262.99361419677734 secs.\n",
      "Transcribing the audio...\n"
     ]
    },
    {
     "name": "stderr",
     "output_type": "stream",
     "text": [
      " 16%|█▌        | 26/166 [4:58:03<28:18:29, 727.93s/it]"
     ]
    },
    {
     "name": "stdout",
     "output_type": "stream",
     "text": [
      "Transcription completed successfully in 472.24961709976196 secs.\n",
      "Downloading audio stream for \n",
      " https://www.youtube.com/watch?v=o6dogAPB9gQ...\n",
      "Audio stream downloaded successfully in 264.82196736335754 secs.\n",
      "Transcribing the audio...\n"
     ]
    },
    {
     "name": "stderr",
     "output_type": "stream",
     "text": [
      " 16%|█▋        | 27/166 [5:10:44<28:28:51, 737.64s/it]"
     ]
    },
    {
     "name": "stdout",
     "output_type": "stream",
     "text": [
      "Transcription completed successfully in 495.45287466049194 secs.\n",
      "Downloading audio stream for \n",
      " https://www.youtube.com/watch?v=dgRSfhoHE4g...\n",
      "Audio stream downloaded successfully in 264.33501148223877 secs.\n",
      "Transcribing the audio...\n"
     ]
    },
    {
     "name": "stderr",
     "output_type": "stream",
     "text": [
      " 17%|█▋        | 28/166 [5:21:42<27:22:04, 713.94s/it]"
     ]
    },
    {
     "name": "stdout",
     "output_type": "stream",
     "text": [
      "Transcription completed successfully in 394.3002791404724 secs.\n",
      "Downloading audio stream for \n",
      " https://www.youtube.com/watch?v=bmvBTDPzzaY...\n",
      "Audio stream downloaded successfully in 263.25740242004395 secs.\n",
      "Transcribing the audio...\n"
     ]
    },
    {
     "name": "stderr",
     "output_type": "stream",
     "text": [
      " 17%|█▋        | 29/166 [5:32:09<26:10:29, 687.81s/it]"
     ]
    },
    {
     "name": "stdout",
     "output_type": "stream",
     "text": [
      "Transcription completed successfully in 363.5526466369629 secs.\n",
      "Downloading audio stream for \n",
      " https://www.youtube.com/watch?v=2zOe9Kd2n-w...\n",
      "Audio stream downloaded successfully in 262.92233419418335 secs.\n",
      "Transcribing the audio...\n"
     ]
    },
    {
     "name": "stderr",
     "output_type": "stream",
     "text": [
      " 18%|█▊        | 30/166 [5:44:33<26:37:03, 704.58s/it]"
     ]
    },
    {
     "name": "stdout",
     "output_type": "stream",
     "text": [
      "Transcription completed successfully in 480.77420568466187 secs.\n",
      "Downloading audio stream for \n",
      " https://www.youtube.com/watch?v=3y5p7V05xls...\n",
      "Audio stream downloaded successfully in 262.6624369621277 secs.\n",
      "Transcribing the audio...\n"
     ]
    },
    {
     "name": "stderr",
     "output_type": "stream",
     "text": [
      " 19%|█▊        | 31/166 [5:58:41<28:02:25, 747.75s/it]"
     ]
    },
    {
     "name": "stdout",
     "output_type": "stream",
     "text": [
      "Transcription completed successfully in 585.7778604030609 secs.\n",
      "Downloading audio stream for \n",
      " https://www.youtube.com/watch?v=RUePwWspKHI...\n",
      "Audio stream downloaded successfully in 394.7329034805298 secs.\n",
      "Transcribing the audio...\n"
     ]
    },
    {
     "name": "stderr",
     "output_type": "stream",
     "text": [
      " 19%|█▉        | 32/166 [6:17:26<32:02:18, 860.74s/it]"
     ]
    },
    {
     "name": "stdout",
     "output_type": "stream",
     "text": [
      "Transcription completed successfully in 729.6225140094757 secs.\n",
      "Downloading audio stream for \n",
      " https://www.youtube.com/watch?v=WNa3-r0dt8c...\n",
      "Audio stream downloaded successfully in 264.03454852104187 secs.\n",
      "Transcribing the audio...\n"
     ]
    },
    {
     "name": "stderr",
     "output_type": "stream",
     "text": [
      " 20%|█▉        | 33/166 [6:29:14<30:06:44, 815.07s/it]"
     ]
    },
    {
     "name": "stdout",
     "output_type": "stream",
     "text": [
      "Transcription completed successfully in 444.4478781223297 secs.\n",
      "Downloading audio stream for \n",
      " https://www.youtube.com/watch?v=mThU-sdywKw...\n",
      "Audio stream downloaded successfully in 394.83035373687744 secs.\n",
      "Transcribing the audio...\n"
     ]
    },
    {
     "name": "stderr",
     "output_type": "stream",
     "text": [
      " 20%|██        | 34/166 [6:48:59<33:57:19, 926.06s/it]"
     ]
    },
    {
     "name": "stdout",
     "output_type": "stream",
     "text": [
      "Transcription completed successfully in 790.1811957359314 secs.\n",
      "Downloading audio stream for \n",
      " https://www.youtube.com/watch?v=2hIhFlNMFxY...\n",
      "Audio stream downloaded successfully in 265.02071261405945 secs.\n",
      "Transcribing the audio...\n"
     ]
    },
    {
     "name": "stderr",
     "output_type": "stream",
     "text": [
      " 21%|██        | 35/166 [6:59:27<30:26:19, 836.48s/it]"
     ]
    },
    {
     "name": "stdout",
     "output_type": "stream",
     "text": [
      "Transcription completed successfully in 362.4298059940338 secs.\n",
      "Downloading audio stream for \n",
      " https://www.youtube.com/watch?v=gMBuMAtr8xk...\n",
      "Audio stream downloaded successfully in 396.8074254989624 secs.\n",
      "Transcribing the audio...\n"
     ]
    },
    {
     "name": "stderr",
     "output_type": "stream",
     "text": [
      " 22%|██▏       | 36/166 [7:18:36<33:35:49, 930.38s/it]"
     ]
    },
    {
     "name": "stdout",
     "output_type": "stream",
     "text": [
      "Transcription completed successfully in 752.6394414901733 secs.\n",
      "Downloading audio stream for \n",
      " https://www.youtube.com/watch?v=rGUsOt5K_uk...\n",
      "Audio stream downloaded successfully in 263.514928817749 secs.\n",
      "Transcribing the audio...\n"
     ]
    },
    {
     "name": "stderr",
     "output_type": "stream",
     "text": [
      " 22%|██▏       | 37/166 [7:28:16<29:34:15, 825.24s/it]"
     ]
    },
    {
     "name": "stdout",
     "output_type": "stream",
     "text": [
      "Transcription completed successfully in 316.36467146873474 secs.\n",
      "Downloading audio stream for \n",
      " https://www.youtube.com/watch?v=YiUSQzV1Aqo...\n",
      "Audio stream downloaded successfully in 263.2509551048279 secs.\n",
      "Transcribing the audio...\n"
     ]
    },
    {
     "name": "stderr",
     "output_type": "stream",
     "text": [
      " 23%|██▎       | 38/166 [7:36:54<26:03:37, 732.95s/it]"
     ]
    },
    {
     "name": "stdout",
     "output_type": "stream",
     "text": [
      "Transcription completed successfully in 254.33501863479614 secs.\n",
      "Downloading audio stream for \n",
      " https://www.youtube.com/watch?v=MMbUTXJBHL0...\n",
      "Audio stream downloaded successfully in 265.41760659217834 secs.\n",
      "Transcribing the audio...\n"
     ]
    },
    {
     "name": "stderr",
     "output_type": "stream",
     "text": [
      " 23%|██▎       | 39/166 [7:49:05<25:50:11, 732.37s/it]"
     ]
    },
    {
     "name": "stdout",
     "output_type": "stream",
     "text": [
      "Transcription completed successfully in 465.5872793197632 secs.\n",
      "Downloading audio stream for \n",
      " https://www.youtube.com/watch?v=6CWq8wyS90o...\n",
      "Audio stream downloaded successfully in 394.65303444862366 secs.\n",
      "Transcribing the audio...\n"
     ]
    },
    {
     "name": "stderr",
     "output_type": "stream",
     "text": [
      " 24%|██▍       | 40/166 [8:07:18<29:25:28, 840.70s/it]"
     ]
    },
    {
     "name": "stdout",
     "output_type": "stream",
     "text": [
      "Transcription completed successfully in 698.7827789783478 secs.\n",
      "Downloading audio stream for \n",
      " https://www.youtube.com/watch?v=RgkluvWPmeY...\n",
      "Audio stream downloaded successfully in 394.83849716186523 secs.\n",
      "Transcribing the audio...\n"
     ]
    },
    {
     "name": "stderr",
     "output_type": "stream",
     "text": [
      " 25%|██▍       | 41/166 [8:28:20<33:34:47, 967.10s/it]"
     ]
    },
    {
     "name": "stdout",
     "output_type": "stream",
     "text": [
      "Transcription completed successfully in 867.1615912914276 secs.\n",
      "Downloading audio stream for \n",
      " https://www.youtube.com/watch?v=ZKNRXuZWYYg...\n",
      "Audio stream downloaded successfully in 263.5071325302124 secs.\n",
      "Transcribing the audio...\n"
     ]
    },
    {
     "name": "stderr",
     "output_type": "stream",
     "text": [
      " 25%|██▌       | 42/166 [8:37:34<29:02:13, 843.01s/it]"
     ]
    },
    {
     "name": "stdout",
     "output_type": "stream",
     "text": [
      "Transcription completed successfully in 289.9539284706116 secs.\n",
      "Downloading audio stream for \n",
      " https://www.youtube.com/watch?v=-xqPVxsFdP4...\n",
      "Audio stream downloaded successfully in 393.9798982143402 secs.\n",
      "Transcribing the audio...\n"
     ]
    },
    {
     "name": "stderr",
     "output_type": "stream",
     "text": [
      " 26%|██▌       | 43/166 [9:00:02<33:58:34, 994.42s/it]"
     ]
    },
    {
     "name": "stdout",
     "output_type": "stream",
     "text": [
      "Transcription completed successfully in 953.7031078338623 secs.\n",
      "Downloading audio stream for \n",
      " https://www.youtube.com/watch?v=QUjYy4Ksy1E...\n",
      "Audio stream downloaded successfully in 394.3423385620117 secs.\n",
      "Transcribing the audio...\n"
     ]
    },
    {
     "name": "stderr",
     "output_type": "stream",
     "text": [
      " 27%|██▋       | 44/166 [9:22:08<37:04:31, 1094.03s/it]"
     ]
    },
    {
     "name": "stdout",
     "output_type": "stream",
     "text": [
      "Transcription completed successfully in 932.0704870223999 secs.\n",
      "Downloading audio stream for \n",
      " https://www.youtube.com/watch?v=mpRRix8m4SQ...\n",
      "Audio stream downloaded successfully in 263.75630617141724 secs.\n",
      "Transcribing the audio...\n"
     ]
    },
    {
     "name": "stderr",
     "output_type": "stream",
     "text": [
      " 27%|██▋       | 45/166 [9:34:42<33:20:38, 992.06s/it] "
     ]
    },
    {
     "name": "stdout",
     "output_type": "stream",
     "text": [
      "Transcription completed successfully in 490.3391571044922 secs.\n",
      "Downloading audio stream for \n",
      " https://www.youtube.com/watch?v=NqtYZJSGeEY...\n",
      "Audio stream downloaded successfully in 263.00611424446106 secs.\n",
      "Transcribing the audio...\n"
     ]
    },
    {
     "name": "stderr",
     "output_type": "stream",
     "text": [
      " 28%|██▊       | 46/166 [9:42:41<27:56:25, 838.21s/it]"
     ]
    },
    {
     "name": "stdout",
     "output_type": "stream",
     "text": [
      "Transcription completed successfully in 216.2044141292572 secs.\n",
      "Downloading audio stream for \n",
      " https://www.youtube.com/watch?v=HmI_VBp9QU0...\n",
      "Audio stream downloaded successfully in 394.6967532634735 secs.\n",
      "Transcribing the audio...\n"
     ]
    },
    {
     "name": "stderr",
     "output_type": "stream",
     "text": [
      " 28%|██▊       | 47/166 [10:04:58<32:39:17, 987.88s/it]"
     ]
    },
    {
     "name": "stdout",
     "output_type": "stream",
     "text": [
      "Transcription completed successfully in 942.3833057880402 secs.\n",
      "Downloading audio stream for \n",
      " https://www.youtube.com/watch?v=D8ft0PHdVlU...\n",
      "Audio stream downloaded successfully in 264.126492023468 secs.\n",
      "Transcribing the audio...\n"
     ]
    },
    {
     "name": "stderr",
     "output_type": "stream",
     "text": [
      " 29%|██▉       | 48/166 [10:20:15<31:40:48, 966.51s/it]"
     ]
    },
    {
     "name": "stdout",
     "output_type": "stream",
     "text": [
      "Transcription completed successfully in 652.5019850730896 secs.\n",
      "Downloading audio stream for \n",
      " https://www.youtube.com/watch?v=ieStO3JqWJ0...\n",
      "Audio stream downloaded successfully in 397.8222818374634 secs.\n",
      "Transcribing the audio...\n"
     ]
    },
    {
     "name": "stderr",
     "output_type": "stream",
     "text": [
      " 30%|██▉       | 49/166 [10:41:21<34:19:46, 1056.30s/it]"
     ]
    },
    {
     "name": "stdout",
     "output_type": "stream",
     "text": [
      "Transcription completed successfully in 867.934787273407 secs.\n",
      "Downloading audio stream for \n",
      " https://www.youtube.com/watch?v=Q-tiTTvkHpw...\n",
      "Audio stream downloaded successfully in 395.224894285202 secs.\n",
      "Transcribing the audio...\n"
     ]
    },
    {
     "name": "stderr",
     "output_type": "stream",
     "text": [
      " 30%|███       | 50/166 [11:05:51<38:02:06, 1180.40s/it]"
     ]
    },
    {
     "name": "stdout",
     "output_type": "stream",
     "text": [
      "Transcription completed successfully in 1074.7304410934448 secs.\n",
      "Downloading audio stream for \n",
      " https://www.youtube.com/watch?v=ZrZHCl7O-ew...\n",
      "Audio stream downloaded successfully in 393.2221610546112 secs.\n",
      "Transcribing the audio...\n"
     ]
    },
    {
     "name": "stderr",
     "output_type": "stream",
     "text": [
      " 31%|███       | 51/166 [11:23:19<36:26:26, 1140.75s/it]"
     ]
    },
    {
     "name": "stdout",
     "output_type": "stream",
     "text": [
      "Transcription completed successfully in 654.978657245636 secs.\n",
      "Downloading audio stream for \n",
      " https://www.youtube.com/watch?v=2FZ2AGo6Kec...\n",
      "Audio stream downloaded successfully in 397.49735474586487 secs.\n",
      "Transcribing the audio...\n"
     ]
    },
    {
     "name": "stderr",
     "output_type": "stream",
     "text": [
      " 31%|███▏      | 52/166 [11:54:55<43:17:53, 1367.31s/it]"
     ]
    },
    {
     "name": "stdout",
     "output_type": "stream",
     "text": [
      "Transcription completed successfully in 1498.4042785167694 secs.\n",
      "Downloading audio stream for \n",
      " https://www.youtube.com/watch?v=jiIhOgpOWcA...\n",
      "Audio stream downloaded successfully in 394.5167865753174 secs.\n",
      "Transcribing the audio...\n"
     ]
    },
    {
     "name": "stderr",
     "output_type": "stream",
     "text": [
      " 32%|███▏      | 53/166 [12:20:14<44:20:53, 1412.86s/it]"
     ]
    },
    {
     "name": "stdout",
     "output_type": "stream",
     "text": [
      "Transcription completed successfully in 1124.6054756641388 secs.\n",
      "Downloading audio stream for \n",
      " https://www.youtube.com/watch?v=tvpDLpCf1jU...\n",
      "Audio stream downloaded successfully in 264.3491282463074 secs.\n",
      "Transcribing the audio...\n"
     ]
    },
    {
     "name": "stderr",
     "output_type": "stream",
     "text": [
      " 33%|███▎      | 54/166 [12:36:29<39:51:50, 1281.35s/it]"
     ]
    },
    {
     "name": "stdout",
     "output_type": "stream",
     "text": [
      "Transcription completed successfully in 710.0961265563965 secs.\n",
      "Downloading audio stream for \n",
      " https://www.youtube.com/watch?v=ja-hlhtRU7Q...\n",
      "Audio stream downloaded successfully in 262.47370529174805 secs.\n",
      "Transcribing the audio...\n"
     ]
    },
    {
     "name": "stderr",
     "output_type": "stream",
     "text": [
      " 33%|███▎      | 55/166 [12:54:05<37:25:29, 1213.78s/it]"
     ]
    },
    {
     "name": "stdout",
     "output_type": "stream",
     "text": [
      "Transcription completed successfully in 793.6254720687866 secs.\n",
      "Downloading audio stream for \n",
      " https://www.youtube.com/watch?v=Cn_n8GL3XeM...\n",
      "Audio stream downloaded successfully in 263.36744451522827 secs.\n",
      "Transcribing the audio...\n"
     ]
    },
    {
     "name": "stderr",
     "output_type": "stream",
     "text": [
      " 34%|███▎      | 56/166 [13:07:07<33:07:39, 1084.18s/it]"
     ]
    },
    {
     "name": "stdout",
     "output_type": "stream",
     "text": [
      "Transcription completed successfully in 518.3701848983765 secs.\n",
      "Downloading audio stream for \n",
      " https://www.youtube.com/watch?v=NuHEY7CjjTI...\n",
      "Audio stream downloaded successfully in 263.4362599849701 secs.\n",
      "Transcribing the audio...\n"
     ]
    },
    {
     "name": "stderr",
     "output_type": "stream",
     "text": [
      " 34%|███▍      | 57/166 [13:19:28<29:42:56, 981.44s/it] "
     ]
    },
    {
     "name": "stdout",
     "output_type": "stream",
     "text": [
      "Transcription completed successfully in 478.23564648628235 secs.\n",
      "Downloading audio stream for \n",
      " https://www.youtube.com/watch?v=tvpDLpCf1jU...\n",
      "Audio stream downloaded successfully in 263.14925360679626 secs.\n",
      "Transcribing the audio...\n"
     ]
    },
    {
     "name": "stderr",
     "output_type": "stream",
     "text": [
      " 35%|███▍      | 58/166 [13:33:09<27:59:44, 933.19s/it]"
     ]
    },
    {
     "name": "stdout",
     "output_type": "stream",
     "text": [
      "Transcription completed successfully in 557.4222786426544 secs.\n",
      "Downloading audio stream for \n",
      " https://www.youtube.com/watch?v=STTNckJrJ0g...\n",
      "Audio stream downloaded successfully in 264.15754652023315 secs.\n",
      "Transcribing the audio...\n"
     ]
    },
    {
     "name": "stderr",
     "output_type": "stream",
     "text": [
      " 36%|███▌      | 59/166 [13:48:46<27:46:09, 934.30s/it]"
     ]
    },
    {
     "name": "stdout",
     "output_type": "stream",
     "text": [
      "Transcription completed successfully in 672.6889984607697 secs.\n",
      "Downloading audio stream for \n",
      " https://www.youtube.com/watch?v=xNWjEwtNMrc...\n",
      "Audio stream downloaded successfully in 394.2162821292877 secs.\n",
      "Transcribing the audio...\n"
     ]
    },
    {
     "name": "stderr",
     "output_type": "stream",
     "text": [
      " 36%|███▌      | 60/166 [14:08:18<29:36:41, 1005.68s/it]"
     ]
    },
    {
     "name": "stdout",
     "output_type": "stream",
     "text": [
      "Transcription completed successfully in 777.9797568321228 secs.\n",
      "Downloading audio stream for \n",
      " https://www.youtube.com/watch?v=b_H0V1-kQbE...\n",
      "Audio stream downloaded successfully in 398.70275497436523 secs.\n",
      "Transcribing the audio...\n"
     ]
    },
    {
     "name": "stderr",
     "output_type": "stream",
     "text": [
      " 37%|███▋      | 61/166 [14:30:14<32:02:44, 1098.71s/it]"
     ]
    },
    {
     "name": "stdout",
     "output_type": "stream",
     "text": [
      "Transcription completed successfully in 917.0353636741638 secs.\n",
      "Downloading audio stream for \n",
      " https://www.youtube.com/watch?v=voSPXSxBkZ8...\n",
      "Audio stream downloaded successfully in 789.2227115631104 secs.\n",
      "Transcribing the audio...\n"
     ]
    },
    {
     "name": "stderr",
     "output_type": "stream",
     "text": [
      " 37%|███▋      | 62/166 [15:30:52<53:44:46, 1860.45s/it]"
     ]
    },
    {
     "name": "stdout",
     "output_type": "stream",
     "text": [
      "Transcription completed successfully in 2848.580664396286 secs.\n",
      "Downloading audio stream for \n",
      " https://www.youtube.com/watch?v=7khssDVKKXc...\n",
      "Audio stream downloaded successfully in 263.61017894744873 secs.\n",
      "Transcribing the audio...\n"
     ]
    },
    {
     "name": "stderr",
     "output_type": "stream",
     "text": [
      " 38%|███▊      | 63/166 [15:40:46<42:21:50, 1480.68s/it]"
     ]
    },
    {
     "name": "stdout",
     "output_type": "stream",
     "text": [
      "Transcription completed successfully in 330.9087424278259 secs.\n",
      "Downloading audio stream for \n",
      " https://www.youtube.com/watch?v=dhoGCej2MGI...\n",
      "Audio stream downloaded successfully in 264.35010957717896 secs.\n",
      "Transcribing the audio...\n"
     ]
    },
    {
     "name": "stderr",
     "output_type": "stream",
     "text": [
      " 39%|███▊      | 64/166 [15:53:14<35:43:17, 1260.76s/it]"
     ]
    },
    {
     "name": "stdout",
     "output_type": "stream",
     "text": [
      "Transcription completed successfully in 483.2239599227905 secs.\n",
      "Downloading audio stream for \n",
      " https://www.youtube.com/watch?v=NSIWr3K9350...\n",
      "Audio stream downloaded successfully in 263.65135884284973 secs.\n",
      "Transcribing the audio...\n"
     ]
    },
    {
     "name": "stderr",
     "output_type": "stream",
     "text": [
      " 39%|███▉      | 65/166 [16:00:57<28:39:39, 1021.58s/it]"
     ]
    },
    {
     "name": "stdout",
     "output_type": "stream",
     "text": [
      "Transcription completed successfully in 199.7964494228363 secs.\n",
      "Downloading audio stream for \n",
      " https://www.youtube.com/watch?v=KcCquBXTtSk...\n",
      "Audio stream downloaded successfully in 264.15110754966736 secs.\n",
      "Transcribing the audio...\n"
     ]
    },
    {
     "name": "stderr",
     "output_type": "stream",
     "text": [
      " 40%|███▉      | 66/166 [16:08:37<23:41:45, 853.06s/it] "
     ]
    },
    {
     "name": "stdout",
     "output_type": "stream",
     "text": [
      "Transcription completed successfully in 195.64438152313232 secs.\n",
      "Downloading audio stream for \n",
      " https://www.youtube.com/watch?v=AvNCvCKJRBg...\n",
      "Audio stream downloaded successfully in 803.9701385498047 secs.\n",
      "Transcribing the audio...\n"
     ]
    },
    {
     "name": "stderr",
     "output_type": "stream",
     "text": [
      " 40%|████      | 67/166 [17:24:35<54:01:35, 1964.60s/it]"
     ]
    },
    {
     "name": "stdout",
     "output_type": "stream",
     "text": [
      "Transcription completed successfully in 3754.185585975647 secs.\n",
      "Downloading audio stream for \n",
      " https://www.youtube.com/watch?v=TEadDxJ6W58...\n",
      "Audio stream downloaded successfully in 262.5630421638489 secs.\n",
      "Transcribing the audio...\n"
     ]
    },
    {
     "name": "stderr",
     "output_type": "stream",
     "text": [
      " 41%|████      | 68/166 [17:32:43<41:25:13, 1521.56s/it]"
     ]
    },
    {
     "name": "stdout",
     "output_type": "stream",
     "text": [
      "Transcription completed successfully in 225.20255780220032 secs.\n",
      "Downloading audio stream for \n",
      " https://www.youtube.com/watch?v=FvZW4_DHry8...\n",
      "Audio stream downloaded successfully in 793.0105683803558 secs.\n",
      "Transcribing the audio...\n"
     ]
    },
    {
     "name": "stderr",
     "output_type": "stream",
     "text": [
      " 42%|████▏     | 69/166 [18:32:36<57:44:36, 2143.06s/it]"
     ]
    },
    {
     "name": "stdout",
     "output_type": "stream",
     "text": [
      "Transcription completed successfully in 2800.145824432373 secs.\n",
      "Downloading audio stream for \n",
      " https://www.youtube.com/watch?v=9DuW7NlMqxo...\n",
      "Audio stream downloaded successfully in 263.3825309276581 secs.\n",
      "Transcribing the audio...\n"
     ]
    },
    {
     "name": "stderr",
     "output_type": "stream",
     "text": [
      " 42%|████▏     | 70/166 [18:41:56<44:29:04, 1668.18s/it]"
     ]
    },
    {
     "name": "stdout",
     "output_type": "stream",
     "text": [
      "Transcription completed successfully in 296.6977322101593 secs.\n",
      "Downloading audio stream for \n",
      " https://www.youtube.com/watch?v=IIPTN0qdFVU...\n",
      "Audio stream downloaded successfully in 801.6135227680206 secs.\n",
      "Transcribing the audio...\n"
     ]
    },
    {
     "name": "stderr",
     "output_type": "stream",
     "text": [
      " 43%|████▎     | 71/166 [19:50:47<63:30:49, 2406.83s/it]"
     ]
    },
    {
     "name": "stdout",
     "output_type": "stream",
     "text": [
      "Transcription completed successfully in 3328.6945700645447 secs.\n",
      "Downloading audio stream for \n",
      " https://www.youtube.com/watch?v=keJPw9iX1kw...\n",
      "Audio stream downloaded successfully in 1473.6681044101715 secs.\n",
      "Transcribing the audio...\n"
     ]
    },
    {
     "name": "stderr",
     "output_type": "stream",
     "text": [
      " 43%|████▎     | 72/166 [22:11:14<110:00:07, 4212.84s/it]"
     ]
    },
    {
     "name": "stdout",
     "output_type": "stream",
     "text": [
      "Transcription completed successfully in 6953.135166168213 secs.\n",
      "Downloading audio stream for \n",
      " https://www.youtube.com/watch?v=Lk9Y8K83tj0...\n",
      "Audio stream downloaded successfully in 796.9520244598389 secs.\n",
      "Transcribing the audio...\n"
     ]
    },
    {
     "name": "stderr",
     "output_type": "stream",
     "text": [
      " 44%|████▍     | 73/166 [23:22:10<109:09:59, 4225.80s/it]"
     ]
    },
    {
     "name": "stdout",
     "output_type": "stream",
     "text": [
      "Transcription completed successfully in 3459.01469373703 secs.\n",
      "Downloading audio stream for \n",
      " https://www.youtube.com/watch?v=_tE4uN6LLN4...\n",
      "Audio stream downloaded successfully in 11.641990423202515 secs.\n",
      "Transcribing the audio...\n"
     ]
    },
    {
     "name": "stderr",
     "output_type": "stream",
     "text": [
      " 45%|████▍     | 74/166 [24:23:36<103:51:35, 4064.09s/it]"
     ]
    },
    {
     "name": "stdout",
     "output_type": "stream",
     "text": [
      "Transcription completed successfully in 3675.0509831905365 secs.\n",
      "Downloading audio stream for \n",
      " https://www.youtube.com/watch?v=MvOI22BoELk...\n",
      "Audio stream downloaded successfully in 393.75232791900635 secs.\n",
      "Transcribing the audio...\n"
     ]
    },
    {
     "name": "stderr",
     "output_type": "stream",
     "text": [
      " 45%|████▌     | 75/166 [24:39:50<79:17:35, 3136.87s/it] "
     ]
    },
    {
     "name": "stdout",
     "output_type": "stream",
     "text": [
      "Transcription completed successfully in 579.5702402591705 secs.\n",
      "Downloading audio stream for \n",
      " https://www.youtube.com/watch?v=aWz5n_cOqrs...\n",
      "Audio stream downloaded successfully in 264.12745213508606 secs.\n",
      "Transcribing the audio...\n"
     ]
    },
    {
     "name": "stderr",
     "output_type": "stream",
     "text": [
      " 46%|████▌     | 76/166 [24:50:53<59:51:58, 2394.65s/it]"
     ]
    },
    {
     "name": "stdout",
     "output_type": "stream",
     "text": [
      "Transcription completed successfully in 398.6202290058136 secs.\n",
      "Downloading audio stream for \n",
      " https://www.youtube.com/watch?v=cvHhAz-vKsg...\n",
      "Audio stream downloaded successfully in 2.554011583328247 secs.\n",
      "Transcribing the audio...\n"
     ]
    },
    {
     "name": "stderr",
     "output_type": "stream",
     "text": [
      " 46%|████▋     | 77/166 [24:54:59<43:16:02, 1750.15s/it]"
     ]
    },
    {
     "name": "stdout",
     "output_type": "stream",
     "text": [
      "Transcription completed successfully in 243.68307733535767 secs.\n",
      "Downloading audio stream for \n",
      " https://www.youtube.com/watch?v=ScuGKDgdxaI...\n",
      "Audio stream downloaded successfully in 10.910578966140747 secs.\n",
      "Transcribing the audio...\n"
     ]
    },
    {
     "name": "stderr",
     "output_type": "stream",
     "text": [
      " 47%|████▋     | 78/166 [25:37:12<48:31:32, 1985.15s/it]"
     ]
    },
    {
     "name": "stdout",
     "output_type": "stream",
     "text": [
      "Transcription completed successfully in 2522.511590242386 secs.\n",
      "Downloading audio stream for \n",
      " https://www.youtube.com/watch?v=-YEoDAu1ET0...\n",
      "Audio stream downloaded successfully in 6.173732757568359 secs.\n",
      "Transcribing the audio...\n"
     ]
    },
    {
     "name": "stderr",
     "output_type": "stream",
     "text": [
      " 48%|████▊     | 79/166 [25:58:25<42:48:18, 1771.25s/it]"
     ]
    },
    {
     "name": "stdout",
     "output_type": "stream",
     "text": [
      "Transcription completed successfully in 1265.9208073616028 secs.\n",
      "Downloading audio stream for \n",
      " https://www.youtube.com/watch?v=RTwk_iHOZv0...\n",
      "Audio stream downloaded successfully in 663.1918742656708 secs.\n",
      "Transcribing the audio...\n"
     ]
    },
    {
     "name": "stderr",
     "output_type": "stream",
     "text": [
      " 48%|████▊     | 80/166 [26:44:46<49:33:20, 2074.43s/it]"
     ]
    },
    {
     "name": "stdout",
     "output_type": "stream",
     "text": [
      "Transcription completed successfully in 2118.5809540748596 secs.\n",
      "Downloading audio stream for \n",
      " https://www.youtube.com/watch?v=HEZRebsi-qk...\n",
      "Audio stream downloaded successfully in 8.851552724838257 secs.\n",
      "Transcribing the audio...\n"
     ]
    },
    {
     "name": "stderr",
     "output_type": "stream",
     "text": [
      " 49%|████▉     | 81/166 [27:29:07<53:07:55, 2250.30s/it]"
     ]
    },
    {
     "name": "stdout",
     "output_type": "stream",
     "text": [
      "Transcription completed successfully in 2651.7545783519745 secs.\n",
      "Downloading audio stream for \n",
      " https://www.youtube.com/watch?v=Bx6ju1tEZ14...\n",
      "Audio stream downloaded successfully in 5.295504093170166 secs.\n",
      "Transcribing the audio...\n"
     ]
    },
    {
     "name": "stderr",
     "output_type": "stream",
     "text": [
      " 49%|████▉     | 82/166 [27:52:09<46:25:37, 1989.73s/it]"
     ]
    },
    {
     "name": "stdout",
     "output_type": "stream",
     "text": [
      "Transcription completed successfully in 1376.361004114151 secs.\n",
      "Downloading audio stream for \n",
      " https://www.youtube.com/watch?v=fpINkIx3saI...\n",
      "Audio stream downloaded successfully in 8.2411208152771 secs.\n",
      "Transcribing the audio...\n"
     ]
    },
    {
     "name": "stderr",
     "output_type": "stream",
     "text": [
      " 50%|█████     | 83/166 [28:25:54<46:06:59, 2000.23s/it]"
     ]
    },
    {
     "name": "stdout",
     "output_type": "stream",
     "text": [
      "Transcription completed successfully in 2016.426751613617 secs.\n",
      "Downloading audio stream for \n",
      " https://www.youtube.com/watch?v=pqMCdKH9oBQ...\n",
      "Audio stream downloaded successfully in 3.899231433868408 secs.\n",
      "Transcribing the audio...\n"
     ]
    },
    {
     "name": "stderr",
     "output_type": "stream",
     "text": [
      " 51%|█████     | 84/166 [28:32:56<34:46:45, 1526.89s/it]"
     ]
    },
    {
     "name": "stdout",
     "output_type": "stream",
     "text": [
      "Transcription completed successfully in 418.4794731140137 secs.\n",
      "Downloading audio stream for \n",
      " https://www.youtube.com/watch?v=evhWIyUsPTM...\n",
      "Audio stream downloaded successfully in 3.913217782974243 secs.\n",
      "Transcribing the audio...\n"
     ]
    },
    {
     "name": "stderr",
     "output_type": "stream",
     "text": [
      " 51%|█████     | 85/166 [28:42:35<27:57:34, 1242.65s/it]"
     ]
    },
    {
     "name": "stdout",
     "output_type": "stream",
     "text": [
      "Transcription completed successfully in 575.4402737617493 secs.\n",
      "Downloading audio stream for \n",
      " https://www.youtube.com/watch?v=mmqok1dJrVs...\n",
      "Audio stream downloaded successfully in 2.5439095497131348 secs.\n",
      "Transcribing the audio...\n"
     ]
    },
    {
     "name": "stderr",
     "output_type": "stream",
     "text": [
      " 52%|█████▏    | 86/166 [28:46:20<20:49:33, 937.17s/it] "
     ]
    },
    {
     "name": "stdout",
     "output_type": "stream",
     "text": [
      "Transcription completed successfully in 221.76583290100098 secs.\n",
      "Downloading audio stream for \n",
      " https://www.youtube.com/watch?v=sOPyJR0pDxA...\n",
      "Audio stream downloaded successfully in 4.136729001998901 secs.\n",
      "Transcribing the audio...\n"
     ]
    },
    {
     "name": "stderr",
     "output_type": "stream",
     "text": [
      " 52%|█████▏    | 87/166 [28:51:32<16:27:07, 749.71s/it]"
     ]
    },
    {
     "name": "stdout",
     "output_type": "stream",
     "text": [
      "Transcription completed successfully in 308.0930709838867 secs.\n",
      "Downloading audio stream for \n",
      " https://www.youtube.com/watch?v=3QWIxElEnc8...\n",
      "Audio stream downloaded successfully in 3.037771701812744 secs.\n",
      "Transcribing the audio...\n"
     ]
    },
    {
     "name": "stderr",
     "output_type": "stream",
     "text": [
      " 53%|█████▎    | 88/166 [29:03:00<15:50:41, 731.30s/it]"
     ]
    },
    {
     "name": "stdout",
     "output_type": "stream",
     "text": [
      "Transcription completed successfully in 685.2327778339386 secs.\n",
      "Downloading audio stream for \n",
      " https://www.youtube.com/watch?v=LojDvrwBcUU...\n",
      "Audio stream downloaded successfully in 3.3395509719848633 secs.\n",
      "Transcribing the audio...\n"
     ]
    },
    {
     "name": "stderr",
     "output_type": "stream",
     "text": [
      " 54%|█████▎    | 89/166 [29:09:56<13:37:01, 636.64s/it]"
     ]
    },
    {
     "name": "stdout",
     "output_type": "stream",
     "text": [
      "Transcription completed successfully in 412.353786945343 secs.\n",
      "Downloading audio stream for \n",
      " https://www.youtube.com/watch?v=TUvTP6VRuKU...\n",
      "Audio stream downloaded successfully in 8.770840644836426 secs.\n",
      "Transcribing the audio...\n"
     ]
    },
    {
     "name": "stderr",
     "output_type": "stream",
     "text": [
      " 54%|█████▍    | 90/166 [30:00:58<28:48:07, 1364.31s/it]"
     ]
    },
    {
     "name": "stdout",
     "output_type": "stream",
     "text": [
      "Transcription completed successfully in 3053.3721964359283 secs.\n",
      "Downloading audio stream for \n",
      " https://www.youtube.com/watch?v=RPzV8fWmKPY...\n",
      "Audio stream downloaded successfully in 2.262033224105835 secs.\n",
      "Transcribing the audio...\n"
     ]
    },
    {
     "name": "stderr",
     "output_type": "stream",
     "text": [
      " 55%|█████▍    | 91/166 [30:06:28<21:57:28, 1053.98s/it]"
     ]
    },
    {
     "name": "stdout",
     "output_type": "stream",
     "text": [
      "Transcription completed successfully in 327.5367820262909 secs.\n",
      "Downloading audio stream for \n",
      " https://www.youtube.com/watch?v=uVGuOTQ4gtI...\n",
      "Audio stream downloaded successfully in 3.0464043617248535 secs.\n",
      "Transcribing the audio...\n"
     ]
    },
    {
     "name": "stderr",
     "output_type": "stream",
     "text": [
      " 55%|█████▌    | 92/166 [30:12:31<17:24:01, 846.50s/it] "
     ]
    },
    {
     "name": "stdout",
     "output_type": "stream",
     "text": [
      "Transcription completed successfully in 359.26558804512024 secs.\n",
      "Downloading audio stream for \n",
      " https://www.youtube.com/watch?v=aKHov_Nuhso...\n",
      "Audio stream downloaded successfully in 2.9947869777679443 secs.\n",
      "Transcribing the audio...\n"
     ]
    },
    {
     "name": "stderr",
     "output_type": "stream",
     "text": [
      " 56%|█████▌    | 93/166 [30:22:36<15:41:56, 774.20s/it]"
     ]
    },
    {
     "name": "stdout",
     "output_type": "stream",
     "text": [
      "Transcription completed successfully in 602.4185817241669 secs.\n",
      "Downloading audio stream for \n",
      " https://www.youtube.com/watch?v=tRWX21lW_bU...\n",
      "Audio stream downloaded successfully in 3.49450945854187 secs.\n",
      "Transcribing the audio...\n"
     ]
    },
    {
     "name": "stderr",
     "output_type": "stream",
     "text": [
      " 57%|█████▋    | 94/166 [30:34:00<14:56:24, 747.01s/it]"
     ]
    },
    {
     "name": "stdout",
     "output_type": "stream",
     "text": [
      "Transcription completed successfully in 680.0060701370239 secs.\n",
      "Downloading audio stream for \n",
      " https://www.youtube.com/watch?v=kPZwR3v_UyI...\n",
      "Audio stream downloaded successfully in 15.969029426574707 secs.\n",
      "Transcribing the audio...\n"
     ]
    },
    {
     "name": "stderr",
     "output_type": "stream",
     "text": [
      " 57%|█████▋    | 95/166 [31:45:15<35:36:37, 1805.59s/it]"
     ]
    },
    {
     "name": "stdout",
     "output_type": "stream",
     "text": [
      "Transcription completed successfully in 4259.572577238083 secs.\n",
      "Downloading audio stream for \n",
      " https://www.youtube.com/watch?v=RfL0H9IiU9s...\n",
      "Audio stream downloaded successfully in 2.676795721054077 secs.\n",
      "Transcribing the audio...\n"
     ]
    },
    {
     "name": "stderr",
     "output_type": "stream",
     "text": [
      " 58%|█████▊    | 96/166 [31:48:41<25:46:34, 1325.63s/it]"
     ]
    },
    {
     "name": "stdout",
     "output_type": "stream",
     "text": [
      "Transcription completed successfully in 202.9752254486084 secs.\n",
      "Downloading audio stream for \n",
      " https://www.youtube.com/watch?v=dGrybv3Bv0E...\n",
      "Audio stream downloaded successfully in 7.733906269073486 secs.\n",
      "Transcribing the audio...\n"
     ]
    },
    {
     "name": "stderr",
     "output_type": "stream",
     "text": [
      " 58%|█████▊    | 97/166 [32:39:03<35:09:36, 1834.45s/it]"
     ]
    },
    {
     "name": "stdout",
     "output_type": "stream",
     "text": [
      "Transcription completed successfully in 3013.8640065193176 secs.\n",
      "Downloading audio stream for \n",
      " https://www.youtube.com/watch?v=Lw4dMehQkgs...\n",
      "Audio stream downloaded successfully in 4.99486231803894 secs.\n",
      "Transcribing the audio...\n"
     ]
    },
    {
     "name": "stderr",
     "output_type": "stream",
     "text": [
      " 59%|█████▉    | 98/166 [33:06:28<33:34:42, 1777.69s/it]"
     ]
    },
    {
     "name": "stdout",
     "output_type": "stream",
     "text": [
      "Transcription completed successfully in 1640.1852827072144 secs.\n",
      "Downloading audio stream for \n",
      " https://www.youtube.com/watch?v=Cn_n8GL3XeM...\n",
      "Audio stream downloaded successfully in 2.230705976486206 secs.\n",
      "Transcribing the audio...\n"
     ]
    },
    {
     "name": "stderr",
     "output_type": "stream",
     "text": [
      " 60%|█████▉    | 99/166 [33:14:14<25:45:37, 1384.13s/it]"
     ]
    },
    {
     "name": "stdout",
     "output_type": "stream",
     "text": [
      "Transcription completed successfully in 463.5277736186981 secs.\n",
      "Downloading audio stream for \n",
      " https://www.youtube.com/watch?v=obJVJSPGMnQ...\n",
      "Audio stream downloaded successfully in 3.7903411388397217 secs.\n",
      "Transcribing the audio...\n"
     ]
    },
    {
     "name": "stderr",
     "output_type": "stream",
     "text": [
      " 60%|██████    | 100/166 [33:23:09<20:42:32, 1129.58s/it]"
     ]
    },
    {
     "name": "stdout",
     "output_type": "stream",
     "text": [
      "Transcription completed successfully in 531.7433528900146 secs.\n",
      "Downloading audio stream for \n",
      " https://www.youtube.com/watch?v=ZR6nZwW7AAk...\n",
      "Audio stream downloaded successfully in 5.107966184616089 secs.\n",
      "Transcribing the audio...\n"
     ]
    },
    {
     "name": "stderr",
     "output_type": "stream",
     "text": [
      " 61%|██████    | 101/166 [33:39:32<19:35:58, 1085.52s/it]"
     ]
    },
    {
     "name": "stdout",
     "output_type": "stream",
     "text": [
      "Transcription completed successfully in 977.5275456905365 secs.\n",
      "Downloading audio stream for \n",
      " https://www.youtube.com/watch?v=jw8eVMKSDgc...\n",
      "Audio stream downloaded successfully in 2.229167938232422 secs.\n",
      "Transcribing the audio...\n"
     ]
    },
    {
     "name": "stderr",
     "output_type": "stream",
     "text": [
      " 61%|██████▏   | 102/166 [33:47:07<15:56:09, 896.40s/it] "
     ]
    },
    {
     "name": "stdout",
     "output_type": "stream",
     "text": [
      "Transcription completed successfully in 452.8160102367401 secs.\n",
      "Downloading audio stream for \n",
      " https://www.youtube.com/watch?v=JxGRqZWdc5U...\n",
      "Audio stream downloaded successfully in 6.680723667144775 secs.\n",
      "Transcribing the audio...\n"
     ]
    },
    {
     "name": "stderr",
     "output_type": "stream",
     "text": [
      " 62%|██████▏   | 103/166 [33:58:32<14:34:36, 832.97s/it]"
     ]
    },
    {
     "name": "stdout",
     "output_type": "stream",
     "text": [
      "Transcription completed successfully in 678.1902801990509 secs.\n",
      "Downloading audio stream for \n",
      " https://www.youtube.com/watch?v=STTNckJrJ0g...\n",
      "Audio stream downloaded successfully in 2.077813148498535 secs.\n",
      "Transcribing the audio...\n"
     ]
    },
    {
     "name": "stderr",
     "output_type": "stream",
     "text": [
      " 63%|██████▎   | 104/166 [34:07:54<12:56:30, 751.46s/it]"
     ]
    },
    {
     "name": "stdout",
     "output_type": "stream",
     "text": [
      "Transcription completed successfully in 559.1221430301666 secs.\n",
      "Downloading audio stream for \n",
      " https://www.youtube.com/watch?v=mpRRix8m4SQ...\n",
      "Audio stream downloaded successfully in 2.205106735229492 secs.\n",
      "Transcribing the audio...\n"
     ]
    },
    {
     "name": "stderr",
     "output_type": "stream",
     "text": [
      " 63%|██████▎   | 105/166 [34:16:13<11:27:05, 675.82s/it]"
     ]
    },
    {
     "name": "stdout",
     "output_type": "stream",
     "text": [
      "Transcription completed successfully in 497.047810792923 secs.\n",
      "Downloading audio stream for \n",
      " https://www.youtube.com/watch?v=DFR_uZFdvG0...\n",
      "Audio stream downloaded successfully in 3.7628142833709717 secs.\n",
      "Transcribing the audio...\n"
     ]
    },
    {
     "name": "stderr",
     "output_type": "stream",
     "text": [
      " 64%|██████▍   | 106/166 [34:20:31<9:10:36, 550.60s/it] "
     ]
    },
    {
     "name": "stdout",
     "output_type": "stream",
     "text": [
      "Transcription completed successfully in 254.56988620758057 secs.\n",
      "Downloading audio stream for \n",
      " https://www.youtube.com/watch?v=qM1h9o6kIrc...\n",
      "Audio stream downloaded successfully in 7.716240167617798 secs.\n",
      "Transcribing the audio...\n"
     ]
    },
    {
     "name": "stderr",
     "output_type": "stream",
     "text": [
      " 64%|██████▍   | 107/166 [34:34:58<10:34:34, 645.33s/it]"
     ]
    },
    {
     "name": "stdout",
     "output_type": "stream",
     "text": [
      "Transcription completed successfully in 858.5516040325165 secs.\n",
      "Downloading audio stream for \n",
      " https://www.youtube.com/watch?v=01XR3rDSi4k...\n",
      "Audio stream downloaded successfully in 3.092273235321045 secs.\n",
      "Transcribing the audio...\n"
     ]
    },
    {
     "name": "stderr",
     "output_type": "stream",
     "text": [
      " 65%|██████▌   | 108/166 [34:41:11<9:04:55, 563.71s/it] "
     ]
    },
    {
     "name": "stdout",
     "output_type": "stream",
     "text": [
      "Transcription completed successfully in 370.08252787590027 secs.\n",
      "Downloading audio stream for \n",
      " https://www.youtube.com/watch?v=bniu1U6wvR8...\n",
      "Audio stream downloaded successfully in 1.9300739765167236 secs.\n",
      "Transcribing the audio...\n"
     ]
    },
    {
     "name": "stderr",
     "output_type": "stream",
     "text": [
      " 66%|██████▌   | 109/166 [34:47:09<7:57:01, 502.13s/it]"
     ]
    },
    {
     "name": "stdout",
     "output_type": "stream",
     "text": [
      "Transcription completed successfully in 356.4477219581604 secs.\n",
      "Downloading audio stream for \n",
      " https://www.youtube.com/watch?v=GTXsobfEXDg...\n",
      "Audio stream downloaded successfully in 3.784428358078003 secs.\n",
      "Transcribing the audio...\n"
     ]
    },
    {
     "name": "stderr",
     "output_type": "stream",
     "text": [
      " 66%|██████▋   | 110/166 [35:02:33<9:46:37, 628.52s/it]"
     ]
    },
    {
     "name": "stdout",
     "output_type": "stream",
     "text": [
      "Transcription completed successfully in 919.5662498474121 secs.\n",
      "Downloading audio stream for \n",
      " https://www.youtube.com/watch?v=JnPyjTFBV9k...\n",
      "Audio stream downloaded successfully in 11.950804948806763 secs.\n",
      "Transcribing the audio...\n"
     ]
    },
    {
     "name": "stderr",
     "output_type": "stream",
     "text": [
      " 67%|██████▋   | 111/166 [35:25:15<12:57:47, 848.50s/it]"
     ]
    },
    {
     "name": "stdout",
     "output_type": "stream",
     "text": [
      "Transcription completed successfully in 1349.7162683010101 secs.\n",
      "Downloading audio stream for \n",
      " https://www.youtube.com/watch?v=e8ekN9Hu--M...\n",
      "Audio stream downloaded successfully in 11.229471206665039 secs.\n",
      "Transcribing the audio...\n"
     ]
    },
    {
     "name": "stderr",
     "output_type": "stream",
     "text": [
      " 67%|██████▋   | 112/166 [36:03:35<19:15:44, 1284.16s/it]"
     ]
    },
    {
     "name": "stdout",
     "output_type": "stream",
     "text": [
      "Transcription completed successfully in 2289.370824575424 secs.\n",
      "Downloading audio stream for \n",
      " https://www.youtube.com/watch?v=e1ndqAkiQZo...\n",
      "Audio stream downloaded successfully in 9.461223363876343 secs.\n",
      "Transcribing the audio...\n"
     ]
    },
    {
     "name": "stderr",
     "output_type": "stream",
     "text": [
      " 68%|██████▊   | 113/166 [36:48:58<25:15:37, 1715.80s/it]"
     ]
    },
    {
     "name": "stdout",
     "output_type": "stream",
     "text": [
      "Transcription completed successfully in 2713.4196848869324 secs.\n",
      "Downloading audio stream for \n",
      " https://www.youtube.com/watch?v=ckjoKSjQnnk...\n",
      "Audio stream downloaded successfully in 3.7103426456451416 secs.\n",
      "Transcribing the audio...\n"
     ]
    },
    {
     "name": "stderr",
     "output_type": "stream",
     "text": [
      " 69%|██████▊   | 114/166 [36:52:37<18:17:50, 1266.74s/it]"
     ]
    },
    {
     "name": "stdout",
     "output_type": "stream",
     "text": [
      "Transcription completed successfully in 215.11436414718628 secs.\n",
      "Downloading audio stream for \n",
      " https://www.youtube.com/watch?v=yBYrzluRxRI...\n",
      "Audio stream downloaded successfully in 6.4792633056640625 secs.\n",
      "Transcribing the audio...\n"
     ]
    },
    {
     "name": "stderr",
     "output_type": "stream",
     "text": [
      " 69%|██████▉   | 115/166 [36:57:07<13:42:24, 967.53s/it] "
     ]
    },
    {
     "name": "stdout",
     "output_type": "stream",
     "text": [
      "Transcription completed successfully in 262.81224942207336 secs.\n",
      "Downloading audio stream for \n",
      " https://www.youtube.com/watch?v=t_TJ9sb2zmw...\n",
      "Audio stream downloaded successfully in 10.453205347061157 secs.\n",
      "Transcribing the audio...\n"
     ]
    },
    {
     "name": "stderr",
     "output_type": "stream",
     "text": [
      " 70%|██████▉   | 116/166 [38:25:32<31:30:45, 2268.91s/it]"
     ]
    },
    {
     "name": "stdout",
     "output_type": "stream",
     "text": [
      "Transcription completed successfully in 5294.913501262665 secs.\n",
      "Downloading audio stream for \n",
      " https://www.youtube.com/watch?v=Bc_2P3AGkeI...\n",
      "Audio stream downloaded successfully in 15.684073209762573 secs.\n",
      "Transcribing the audio...\n"
     ]
    },
    {
     "name": "stderr",
     "output_type": "stream",
     "text": [
      " 70%|███████   | 117/166 [39:33:46<38:20:07, 2816.49s/it]"
     ]
    },
    {
     "name": "stdout",
     "output_type": "stream",
     "text": [
      "Transcription completed successfully in 4078.362159729004 secs.\n",
      "Downloading audio stream for \n",
      " https://www.youtube.com/watch?v=yAAmyhWspts...\n",
      "Audio stream downloaded successfully in 9.612558841705322 secs.\n",
      "Transcribing the audio...\n"
     ]
    },
    {
     "name": "stderr",
     "output_type": "stream",
     "text": [
      " 71%|███████   | 118/166 [40:27:32<39:11:27, 2939.33s/it]"
     ]
    },
    {
     "name": "stdout",
     "output_type": "stream",
     "text": [
      "Transcription completed successfully in 3216.229535341263 secs.\n",
      "Downloading audio stream for \n",
      " https://www.youtube.com/watch?v=azz4dzlccbg...\n",
      "Audio stream downloaded successfully in 8.90140151977539 secs.\n",
      "Transcribing the audio...\n"
     ]
    },
    {
     "name": "stderr",
     "output_type": "stream",
     "text": [
      " 72%|███████▏  | 119/166 [41:03:45<35:22:25, 2709.48s/it]"
     ]
    },
    {
     "name": "stdout",
     "output_type": "stream",
     "text": [
      "Transcription completed successfully in 2164.1448454856873 secs.\n",
      "Downloading audio stream for \n",
      " https://www.youtube.com/watch?v=D8ft0PHdVlU...\n",
      "Audio stream downloaded successfully in 1.9536280632019043 secs.\n",
      "Transcribing the audio...\n"
     ]
    },
    {
     "name": "stderr",
     "output_type": "stream",
     "text": [
      " 72%|███████▏  | 120/166 [41:15:54<27:01:38, 2115.18s/it]"
     ]
    },
    {
     "name": "stdout",
     "output_type": "stream",
     "text": [
      "Transcription completed successfully in 726.4176940917969 secs.\n",
      "Downloading audio stream for \n",
      " https://www.youtube.com/watch?v=cvHhAz-vKsg...\n",
      "Audio stream downloaded successfully in 2.8699569702148438 secs.\n",
      "Transcribing the audio...\n"
     ]
    },
    {
     "name": "stderr",
     "output_type": "stream",
     "text": [
      " 73%|███████▎  | 121/166 [41:20:01<19:26:04, 1554.77s/it]"
     ]
    },
    {
     "name": "stdout",
     "output_type": "stream",
     "text": [
      "Transcription completed successfully in 244.1858525276184 secs.\n",
      "Downloading audio stream for \n",
      " https://www.youtube.com/watch?v=3PU0S-VyLWo...\n",
      "Audio stream downloaded successfully in 3.640695333480835 secs.\n",
      "Transcribing the audio...\n"
     ]
    },
    {
     "name": "stderr",
     "output_type": "stream",
     "text": [
      " 73%|███████▎  | 122/166 [41:22:13<13:47:10, 1127.96s/it]"
     ]
    },
    {
     "name": "stdout",
     "output_type": "stream",
     "text": [
      "Transcription completed successfully in 128.31527304649353 secs.\n",
      "Downloading audio stream for \n",
      " https://www.youtube.com/watch?v=UOpX18ey8WQ...\n",
      "Audio stream downloaded successfully in 1.7472522258758545 secs.\n",
      "Transcribing the audio...\n"
     ]
    },
    {
     "name": "stderr",
     "output_type": "stream",
     "text": [
      " 74%|███████▍  | 123/166 [41:25:26<10:07:26, 847.60s/it] "
     ]
    },
    {
     "name": "stdout",
     "output_type": "stream",
     "text": [
      "Transcription completed successfully in 191.56615495681763 secs.\n",
      "Downloading audio stream for \n",
      " https://www.youtube.com/watch?v=pj8AEjNE6VY...\n",
      "Audio stream downloaded successfully in 1.8669195175170898 secs.\n",
      "Transcribing the audio...\n"
     ]
    },
    {
     "name": "stderr",
     "output_type": "stream",
     "text": [
      " 75%|███████▍  | 124/166 [41:28:55<7:39:05, 655.86s/it] "
     ]
    },
    {
     "name": "stdout",
     "output_type": "stream",
     "text": [
      "Transcription completed successfully in 206.48859977722168 secs.\n",
      "Downloading audio stream for \n",
      " https://www.youtube.com/watch?v=DZvVaOwJNk8...\n",
      "Audio stream downloaded successfully in 2.4132747650146484 secs.\n",
      "Transcribing the audio...\n"
     ]
    },
    {
     "name": "stderr",
     "output_type": "stream",
     "text": [
      " 75%|███████▌  | 125/166 [41:34:29<6:22:06, 559.19s/it]"
     ]
    },
    {
     "name": "stdout",
     "output_type": "stream",
     "text": [
      "Transcription completed successfully in 331.11286306381226 secs.\n",
      "Downloading audio stream for \n",
      " https://www.youtube.com/watch?v=CerQFsM7fWs...\n",
      "Audio stream downloaded successfully in 4.043010234832764 secs.\n",
      "Transcribing the audio...\n"
     ]
    },
    {
     "name": "stderr",
     "output_type": "stream",
     "text": [
      " 76%|███████▌  | 126/166 [41:42:24<5:56:07, 534.18s/it]"
     ]
    },
    {
     "name": "stdout",
     "output_type": "stream",
     "text": [
      "Transcription completed successfully in 471.661776304245 secs.\n",
      "Downloading audio stream for \n",
      " https://www.youtube.com/watch?v=So7hE1Ba_QA...\n",
      "Audio stream downloaded successfully in 2.0138187408447266 secs.\n",
      "Transcribing the audio...\n"
     ]
    },
    {
     "name": "stderr",
     "output_type": "stream",
     "text": [
      " 77%|███████▋  | 127/166 [41:44:49<4:31:17, 417.37s/it]"
     ]
    },
    {
     "name": "stdout",
     "output_type": "stream",
     "text": [
      "Transcription completed successfully in 142.71943712234497 secs.\n",
      "Downloading audio stream for \n",
      " https://www.youtube.com/watch?v=lUxU6KnjNNs...\n",
      "Audio stream downloaded successfully in 10.703065872192383 secs.\n",
      "Transcribing the audio...\n"
     ]
    },
    {
     "name": "stderr",
     "output_type": "stream",
     "text": [
      " 77%|███████▋  | 128/166 [42:40:48<13:43:14, 1299.86s/it]"
     ]
    },
    {
     "name": "stdout",
     "output_type": "stream",
     "text": [
      "Transcription completed successfully in 3348.1845886707306 secs.\n",
      "Downloading audio stream for \n",
      " https://www.youtube.com/watch?v=qvaB2d5yDf8...\n",
      "Audio stream downloaded successfully in 1.9482347965240479 secs.\n",
      "Transcribing the audio...\n"
     ]
    },
    {
     "name": "stderr",
     "output_type": "stream",
     "text": [
      " 78%|███████▊  | 129/166 [42:49:38<10:59:04, 1068.76s/it]"
     ]
    },
    {
     "name": "stdout",
     "output_type": "stream",
     "text": [
      "Transcription completed successfully in 527.4557583332062 secs.\n",
      "Downloading audio stream for \n",
      " https://www.youtube.com/watch?v=eY4E3tV_bcM...\n",
      "Audio stream downloaded successfully in 5.021350860595703 secs.\n",
      "Transcribing the audio...\n"
     ]
    },
    {
     "name": "stderr",
     "output_type": "stream",
     "text": [
      " 78%|███████▊  | 130/166 [43:24:08<13:41:32, 1369.23s/it]"
     ]
    },
    {
     "name": "stdout",
     "output_type": "stream",
     "text": [
      "Transcription completed successfully in 2065.2005586624146 secs.\n",
      "Downloading audio stream for \n",
      " https://www.youtube.com/watch?v=oUrkfSzpt20...\n",
      "Audio stream downloaded successfully in 2.4976882934570312 secs.\n",
      "Transcribing the audio...\n"
     ]
    },
    {
     "name": "stderr",
     "output_type": "stream",
     "text": [
      " 79%|███████▉  | 131/166 [43:27:53<9:58:33, 1026.10s/it] "
     ]
    },
    {
     "name": "stdout",
     "output_type": "stream",
     "text": [
      "Transcription completed successfully in 222.83803582191467 secs.\n",
      "Downloading audio stream for \n",
      " https://www.youtube.com/watch?v=xoFkAui7_vs...\n",
      "Audio stream downloaded successfully in 5.051441431045532 secs.\n",
      "Transcribing the audio...\n"
     ]
    },
    {
     "name": "stderr",
     "output_type": "stream",
     "text": [
      " 80%|███████▉  | 132/166 [43:36:57<8:19:21, 881.21s/it] "
     ]
    },
    {
     "name": "stdout",
     "output_type": "stream",
     "text": [
      "Transcription completed successfully in 537.9949634075165 secs.\n",
      "Downloading audio stream for \n",
      " https://www.youtube.com/watch?v=gOZT3XBIB1Q...\n",
      "Audio stream downloaded successfully in 2.0492594242095947 secs.\n",
      "Transcribing the audio...\n"
     ]
    },
    {
     "name": "stderr",
     "output_type": "stream",
     "text": [
      " 80%|████████  | 133/166 [43:41:02<6:19:46, 690.49s/it]"
     ]
    },
    {
     "name": "stdout",
     "output_type": "stream",
     "text": [
      "Transcription completed successfully in 243.30053424835205 secs.\n",
      "Downloading audio stream for \n",
      " https://www.youtube.com/watch?v=1s8PHo7SpNg...\n",
      "Audio stream downloaded successfully in 2.989835739135742 secs.\n",
      "Transcribing the audio...\n"
     ]
    },
    {
     "name": "stderr",
     "output_type": "stream",
     "text": [
      " 81%|████████  | 134/166 [43:47:33<5:20:15, 600.49s/it]"
     ]
    },
    {
     "name": "stdout",
     "output_type": "stream",
     "text": [
      "Transcription completed successfully in 387.3869924545288 secs.\n",
      "Downloading audio stream for \n",
      " https://www.youtube.com/watch?v=zh9r78Wd0kI...\n",
      "Audio stream downloaded successfully in 2.8313159942626953 secs.\n",
      "Transcribing the audio...\n"
     ]
    },
    {
     "name": "stderr",
     "output_type": "stream",
     "text": [
      " 81%|████████▏ | 135/166 [43:53:37<4:33:36, 529.57s/it]"
     ]
    },
    {
     "name": "stdout",
     "output_type": "stream",
     "text": [
      "Transcription completed successfully in 361.1423261165619 secs.\n",
      "Downloading audio stream for \n",
      " https://www.youtube.com/watch?v=43gyezZiarQ...\n",
      "Audio stream downloaded successfully in 3.7515828609466553 secs.\n",
      "Transcribing the audio...\n"
     ]
    },
    {
     "name": "stderr",
     "output_type": "stream",
     "text": [
      " 82%|████████▏ | 136/166 [43:56:57<3:35:28, 430.94s/it]"
     ]
    },
    {
     "name": "stdout",
     "output_type": "stream",
     "text": [
      "Transcription completed successfully in 196.96012043952942 secs.\n",
      "Downloading audio stream for \n",
      " https://www.youtube.com/watch?v=wSDTYTIJVrs...\n",
      "Audio stream downloaded successfully in 2.064344644546509 secs.\n",
      "Transcribing the audio...\n"
     ]
    },
    {
     "name": "stderr",
     "output_type": "stream",
     "text": [
      " 83%|████████▎ | 137/166 [44:05:43<3:41:59, 459.29s/it]"
     ]
    },
    {
     "name": "stdout",
     "output_type": "stream",
     "text": [
      "Transcription completed successfully in 523.2494616508484 secs.\n",
      "Downloading audio stream for \n",
      " https://www.youtube.com/watch?v=tMcCi_nA6a0...\n",
      "Audio stream downloaded successfully in 2.4374327659606934 secs.\n",
      "Transcribing the audio...\n"
     ]
    },
    {
     "name": "stderr",
     "output_type": "stream",
     "text": [
      " 83%|████████▎ | 138/166 [44:11:51<3:21:31, 431.83s/it]"
     ]
    },
    {
     "name": "stdout",
     "output_type": "stream",
     "text": [
      "Transcription completed successfully in 365.21920561790466 secs.\n",
      "Downloading audio stream for \n",
      " https://www.youtube.com/watch?v=zktbKbbqGvE...\n",
      "Audio stream downloaded successfully in 2.410094738006592 secs.\n",
      "Transcribing the audio...\n"
     ]
    },
    {
     "name": "stderr",
     "output_type": "stream",
     "text": [
      " 84%|████████▎ | 139/166 [44:15:54<2:48:48, 375.14s/it]"
     ]
    },
    {
     "name": "stdout",
     "output_type": "stream",
     "text": [
      "Transcription completed successfully in 240.33675861358643 secs.\n",
      "Downloading audio stream for \n",
      " https://www.youtube.com/watch?v=sXGhT4pJcj8...\n",
      "Audio stream downloaded successfully in 5.236652374267578 secs.\n",
      "Transcribing the audio...\n"
     ]
    },
    {
     "name": "stderr",
     "output_type": "stream",
     "text": [
      " 84%|████████▍ | 140/166 [45:11:19<9:06:06, 1260.26s/it]"
     ]
    },
    {
     "name": "stdout",
     "output_type": "stream",
     "text": [
      "Transcription completed successfully in 3320.1571650505066 secs.\n",
      "Downloading audio stream for \n",
      " https://www.youtube.com/watch?v=k5X8CzKbBKY...\n",
      "Audio stream downloaded successfully in 2.936507225036621 secs.\n",
      "Transcribing the audio...\n"
     ]
    },
    {
     "name": "stderr",
     "output_type": "stream",
     "text": [
      " 85%|████████▍ | 141/166 [45:18:09<6:58:51, 1005.24s/it]"
     ]
    },
    {
     "name": "stdout",
     "output_type": "stream",
     "text": [
      "Transcription completed successfully in 407.15029287338257 secs.\n",
      "Downloading audio stream for \n",
      " https://www.youtube.com/watch?v=nCVECzSFnTY...\n",
      "Audio stream downloaded successfully in 3.0770225524902344 secs.\n",
      "Transcribing the audio...\n"
     ]
    },
    {
     "name": "stderr",
     "output_type": "stream",
     "text": [
      " 86%|████████▌ | 142/166 [45:22:39<5:13:51, 784.64s/it] "
     ]
    },
    {
     "name": "stdout",
     "output_type": "stream",
     "text": [
      "Transcription completed successfully in 266.6889305114746 secs.\n",
      "Downloading audio stream for \n",
      " https://www.youtube.com/watch?v=bDhqTf5eJH4...\n",
      "Audio stream downloaded successfully in 2.670785903930664 secs.\n",
      "Transcribing the audio...\n"
     ]
    },
    {
     "name": "stderr",
     "output_type": "stream",
     "text": [
      " 86%|████████▌ | 143/166 [45:27:46<4:05:52, 641.41s/it]"
     ]
    },
    {
     "name": "stdout",
     "output_type": "stream",
     "text": [
      "Transcription completed successfully in 304.42076778411865 secs.\n",
      "Downloading audio stream for \n",
      " https://www.youtube.com/watch?v=cXw8cJolE5Y...\n",
      "Audio stream downloaded successfully in 2.329272747039795 secs.\n",
      "Transcribing the audio...\n"
     ]
    },
    {
     "name": "stderr",
     "output_type": "stream",
     "text": [
      " 87%|████████▋ | 144/166 [45:33:15<3:20:47, 547.63s/it]"
     ]
    },
    {
     "name": "stdout",
     "output_type": "stream",
     "text": [
      "Transcription completed successfully in 326.3640892505646 secs.\n",
      "Downloading audio stream for \n",
      " https://www.youtube.com/watch?v=RwIx9lii4ns...\n",
      "Audio stream downloaded successfully in 7.638463735580444 secs.\n",
      "Transcribing the audio...\n"
     ]
    },
    {
     "name": "stderr",
     "output_type": "stream",
     "text": [
      " 87%|████████▋ | 145/166 [45:52:55<4:18:03, 737.31s/it]"
     ]
    },
    {
     "name": "stdout",
     "output_type": "stream",
     "text": [
      "Transcription completed successfully in 1172.1314461231232 secs.\n",
      "Downloading audio stream for \n",
      " https://www.youtube.com/watch?v=ylCmKnpw9Aw...\n",
      "Audio stream downloaded successfully in 2.593153238296509 secs.\n",
      "Transcribing the audio...\n"
     ]
    },
    {
     "name": "stderr",
     "output_type": "stream",
     "text": [
      " 88%|████████▊ | 146/166 [45:59:02<3:28:41, 626.08s/it]"
     ]
    },
    {
     "name": "stdout",
     "output_type": "stream",
     "text": [
      "Transcription completed successfully in 363.8421368598938 secs.\n",
      "Downloading audio stream for \n",
      " https://www.youtube.com/watch?v=bbQnnAbWBfE...\n",
      "Audio stream downloaded successfully in 12.382412433624268 secs.\n",
      "Transcribing the audio...\n"
     ]
    },
    {
     "name": "stderr",
     "output_type": "stream",
     "text": [
      " 89%|████████▊ | 147/166 [46:42:34<6:26:55, 1221.89s/it]"
     ]
    },
    {
     "name": "stdout",
     "output_type": "stream",
     "text": [
      "Transcription completed successfully in 2599.5816888809204 secs.\n",
      "Downloading audio stream for \n",
      " https://www.youtube.com/watch?v=9bkDU2juYU8...\n",
      "Audio stream downloaded successfully in 262.28999042510986 secs.\n",
      "Transcribing the audio...\n"
     ]
    },
    {
     "name": "stderr",
     "output_type": "stream",
     "text": [
      " 89%|████████▉ | 148/166 [46:51:13<5:03:22, 1011.22s/it]"
     ]
    },
    {
     "name": "stdout",
     "output_type": "stream",
     "text": [
      "Transcription completed successfully in 257.26584243774414 secs.\n",
      "Downloading audio stream for \n",
      " https://www.youtube.com/watch?v=xkXpcs_an80...\n",
      "Audio stream downloaded successfully in 795.9136106967926 secs.\n",
      "Transcribing the audio...\n"
     ]
    },
    {
     "name": "stderr",
     "output_type": "stream",
     "text": [
      " 90%|████████▉ | 149/166 [47:49:20<8:16:56, 1753.90s/it]"
     ]
    },
    {
     "name": "stdout",
     "output_type": "stream",
     "text": [
      "Transcription completed successfully in 2690.774180650711 secs.\n",
      "Downloading audio stream for \n",
      " https://www.youtube.com/watch?v=j6jrBZQo5fM...\n",
      "Audio stream downloaded successfully in 3.416386842727661 secs.\n",
      "Transcribing the audio...\n"
     ]
    },
    {
     "name": "stderr",
     "output_type": "stream",
     "text": [
      " 90%|█████████ | 150/166 [47:56:33<6:01:58, 1357.42s/it]"
     ]
    },
    {
     "name": "stdout",
     "output_type": "stream",
     "text": [
      "Transcription completed successfully in 428.7565002441406 secs.\n",
      "Downloading audio stream for \n",
      " https://www.youtube.com/watch?v=tpfBu-PnWJ4...\n",
      "Audio stream downloaded successfully in 398.667356967926 secs.\n",
      "Transcribing the audio...\n"
     ]
    },
    {
     "name": "stderr",
     "output_type": "stream",
     "text": [
      " 91%|█████████ | 151/166 [48:22:19<5:53:32, 1414.18s/it]"
     ]
    },
    {
     "name": "stdout",
     "output_type": "stream",
     "text": [
      "Transcription completed successfully in 1147.8049261569977 secs.\n",
      "Downloading audio stream for \n",
      " https://www.youtube.com/watch?v=phTTGIEUX7w...\n",
      "Audio stream downloaded successfully in 5.208735942840576 secs.\n",
      "Transcribing the audio...\n"
     ]
    },
    {
     "name": "stderr",
     "output_type": "stream",
     "text": [
      " 92%|█████████▏| 152/166 [48:32:13<4:32:33, 1168.08s/it]"
     ]
    },
    {
     "name": "stdout",
     "output_type": "stream",
     "text": [
      "Transcription completed successfully in 588.5198085308075 secs.\n",
      "Downloading audio stream for \n",
      " https://www.youtube.com/watch?v=jw8eVMKSDgc...\n",
      "Audio stream downloaded successfully in 3.5771450996398926 secs.\n",
      "Transcribing the audio...\n"
     ]
    },
    {
     "name": "stderr",
     "output_type": "stream",
     "text": [
      " 92%|█████████▏| 153/166 [48:39:17<3:24:43, 944.91s/it] "
     ]
    },
    {
     "name": "stdout",
     "output_type": "stream",
     "text": [
      "Transcription completed successfully in 420.46313762664795 secs.\n",
      "Downloading audio stream for \n",
      " https://www.youtube.com/watch?v=1W7oUZ8EVbI...\n",
      "Audio stream downloaded successfully in 2.491022825241089 secs.\n",
      "Transcribing the audio...\n"
     ]
    },
    {
     "name": "stderr",
     "output_type": "stream",
     "text": [
      " 93%|█████████▎| 154/166 [48:44:29<2:30:58, 754.85s/it]"
     ]
    },
    {
     "name": "stdout",
     "output_type": "stream",
     "text": [
      "Transcription completed successfully in 308.7562646865845 secs.\n",
      "Downloading audio stream for \n",
      " https://www.youtube.com/watch?v=86sYinrLuPA...\n",
      "Audio stream downloaded successfully in 262.9192147254944 secs.\n",
      "Transcribing the audio...\n"
     ]
    },
    {
     "name": "stderr",
     "output_type": "stream",
     "text": [
      " 93%|█████████▎| 155/166 [48:52:10<2:02:16, 666.96s/it]"
     ]
    },
    {
     "name": "stdout",
     "output_type": "stream",
     "text": [
      "Transcription completed successfully in 198.8230390548706 secs.\n",
      "Downloading audio stream for \n",
      " https://www.youtube.com/watch?v=-lOTZRpOvxY...\n",
      "Audio stream downloaded successfully in 3.9853885173797607 secs.\n",
      "Transcribing the audio...\n"
     ]
    },
    {
     "name": "stderr",
     "output_type": "stream",
     "text": [
      " 94%|█████████▍| 156/166 [48:57:58<1:35:12, 571.23s/it]"
     ]
    },
    {
     "name": "stdout",
     "output_type": "stream",
     "text": [
      "Transcription completed successfully in 343.76612544059753 secs.\n",
      "Downloading audio stream for \n",
      " https://www.youtube.com/watch?v=j5qgaKHMw1I...\n",
      "Audio stream downloaded successfully in 4.184639930725098 secs.\n",
      "Transcribing the audio...\n"
     ]
    },
    {
     "name": "stderr",
     "output_type": "stream",
     "text": [
      " 95%|█████████▍| 157/166 [49:05:51<1:21:15, 541.71s/it]"
     ]
    },
    {
     "name": "stdout",
     "output_type": "stream",
     "text": [
      "Transcription completed successfully in 468.507693529129 secs.\n",
      "Downloading audio stream for \n",
      " https://www.youtube.com/watch?v=b2RhXCugEW4...\n",
      "Audio stream downloaded successfully in 2.1530134677886963 secs.\n",
      "Transcribing the audio...\n"
     ]
    },
    {
     "name": "stderr",
     "output_type": "stream",
     "text": [
      " 95%|█████████▌| 158/166 [49:09:51<1:00:09, 451.15s/it]"
     ]
    },
    {
     "name": "stdout",
     "output_type": "stream",
     "text": [
      "Transcription completed successfully in 237.5471134185791 secs.\n",
      "Downloading audio stream for \n",
      " https://www.youtube.com/watch?v=yWLCto4p_yM...\n",
      "Audio stream downloaded successfully in 4.316587209701538 secs.\n",
      "Transcribing the audio...\n"
     ]
    },
    {
     "name": "stderr",
     "output_type": "stream",
     "text": [
      " 96%|█████████▌| 159/166 [49:17:23<52:39, 451.34s/it]  "
     ]
    },
    {
     "name": "stdout",
     "output_type": "stream",
     "text": [
      "Transcription completed successfully in 447.34528255462646 secs.\n",
      "Downloading audio stream for \n",
      " https://www.youtube.com/watch?v=qX5_JLl3wYg...\n",
      "Audio stream downloaded successfully in 3.685948610305786 secs.\n",
      "Transcribing the audio...\n"
     ]
    },
    {
     "name": "stderr",
     "output_type": "stream",
     "text": [
      " 96%|█████████▋| 160/166 [49:23:16<42:12, 422.00s/it]"
     ]
    },
    {
     "name": "stdout",
     "output_type": "stream",
     "text": [
      "Transcription completed successfully in 349.7327857017517 secs.\n",
      "Downloading audio stream for \n",
      " https://www.youtube.com/watch?v=yph9VpjW6gg...\n",
      "Audio stream downloaded successfully in 267.34800004959106 secs.\n",
      "Transcribing the audio...\n"
     ]
    },
    {
     "name": "stderr",
     "output_type": "stream",
     "text": [
      " 97%|█████████▋| 161/166 [49:37:34<46:03, 552.75s/it]"
     ]
    },
    {
     "name": "stdout",
     "output_type": "stream",
     "text": [
      "Transcription completed successfully in 590.3418228626251 secs.\n",
      "Downloading audio stream for \n",
      " https://www.youtube.com/watch?v=7VaHh9EUcfE...\n",
      "Audio stream downloaded successfully in 264.42742919921875 secs.\n",
      "Transcribing the audio...\n"
     ]
    },
    {
     "name": "stderr",
     "output_type": "stream",
     "text": [
      " 98%|█████████▊| 162/166 [49:46:57<37:03, 555.93s/it]"
     ]
    },
    {
     "name": "stdout",
     "output_type": "stream",
     "text": [
      "Transcription completed successfully in 298.8072249889374 secs.\n",
      "Downloading audio stream for \n",
      " https://www.youtube.com/watch?v=XOoFuiLeaPg...\n",
      "Audio stream downloaded successfully in 4.409518241882324 secs.\n",
      "Transcribing the audio...\n"
     ]
    },
    {
     "name": "stderr",
     "output_type": "stream",
     "text": [
      " 98%|█████████▊| 163/166 [49:51:59<23:58, 479.59s/it]"
     ]
    },
    {
     "name": "stdout",
     "output_type": "stream",
     "text": [
      "Transcription completed successfully in 296.9135510921478 secs.\n",
      "Downloading audio stream for \n",
      " https://www.youtube.com/watch?v=tpfBu-PnWJ4...\n",
      "Audio stream downloaded successfully in 2.458322048187256 secs.\n",
      "Transcribing the audio...\n"
     ]
    },
    {
     "name": "stderr",
     "output_type": "stream",
     "text": [
      " 99%|█████████▉| 164/166 [50:08:11<20:54, 627.38s/it]"
     ]
    },
    {
     "name": "stdout",
     "output_type": "stream",
     "text": [
      "Transcription completed successfully in 969.6351885795593 secs.\n",
      "Downloading audio stream for \n",
      " https://www.youtube.com/watch?v=FQ1d5rC062c...\n",
      "Audio stream downloaded successfully in 394.8382601737976 secs.\n",
      "Transcribing the audio...\n"
     ]
    },
    {
     "name": "stderr",
     "output_type": "stream",
     "text": [
      " 99%|█████████▉| 165/166 [50:23:47<11:59, 719.80s/it]"
     ]
    },
    {
     "name": "stdout",
     "output_type": "stream",
     "text": [
      "Transcription completed successfully in 540.482992887497 secs.\n",
      "Downloading audio stream for \n",
      " https://www.youtube.com/watch?v=DvuVhCIQgfQ...\n",
      "Audio stream downloaded successfully in 2.1592843532562256 secs.\n",
      "Transcribing the audio...\n"
     ]
    },
    {
     "name": "stderr",
     "output_type": "stream",
     "text": [
      "100%|██████████| 166/166 [50:33:30<00:00, 1096.45s/it]"
     ]
    },
    {
     "name": "stdout",
     "output_type": "stream",
     "text": [
      "Transcription completed successfully in 581.0930638313293 secs.\n"
     ]
    },
    {
     "name": "stderr",
     "output_type": "stream",
     "text": [
      "\n"
     ]
    }
   ],
   "source": [
    "# TODO: Modify the code to transcribe the videos and save the transcript in the dataframe\n",
    "# save the dataframe to a csv file\n",
    "\n",
    "\n",
    "for index in tqdm(range(len(df))):\n",
    "    video_url = df.loc[index,'video_url']\n",
    "    try: \n",
    "        transcript = transcribe_youtube(video_url,  model )\n",
    "        df.loc[index,'video_transcript'] = transcript\n",
    "        df.to_csv('DrK_videos.csv', index=False)\n",
    "    except Exception as e:\n",
    "        print(f\"An error occurred while getting transcript: {e}\")"
   ]
  }
 ],
 "metadata": {
  "kernelspec": {
   "display_name": "YT_datacollection",
   "language": "python",
   "name": "python3"
  },
  "language_info": {
   "codemirror_mode": {
    "name": "ipython",
    "version": 3
   },
   "file_extension": ".py",
   "mimetype": "text/x-python",
   "name": "python",
   "nbconvert_exporter": "python",
   "pygments_lexer": "ipython3",
   "version": "3.10.14"
  }
 },
 "nbformat": 4,
 "nbformat_minor": 2
}
